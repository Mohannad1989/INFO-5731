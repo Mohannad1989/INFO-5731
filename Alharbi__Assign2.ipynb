{
 "cells": [
  {
   "cell_type": "markdown",
   "metadata": {},
   "source": [
    "Question 1. (20 points). Which of the following statements contain only valid built- in functions in Python 3? If the statement is valid, explain what it does. If it is not valid, explain why not.\n",
    "1.1 \"A\".isupper()\n",
    "1.2 print \"This is my Python class\";\n",
    "1.3 x == 1 AND y > x\n",
    "1.4 return t[1:]\n",
    "1.5 if \"fruit\" in \"apple\":\n",
    "1.6 with open(\"myfile.txt\", \"r\") as f:\n",
    "          text = f.read().decode(\"UTF-8\") \n",
    "1.7 foo == None\n",
    "1.8 name = \"My name is Brenda\"\n",
    "name[0] = \"A\"\n",
    "1.9 x = 3\n",
    "x**3\n",
    "1.10 20%7"
   ]
  },
  {
   "cell_type": "code",
   "execution_count": 1,
   "metadata": {},
   "outputs": [
    {
     "data": {
      "text/plain": [
       "True"
      ]
     },
     "execution_count": 1,
     "metadata": {},
     "output_type": "execute_result"
    }
   ],
   "source": [
    "\"A\".isupper() \n",
    "#valid because it returne 'true'. Also, .isupper() is a funcation that handle string. "
   ]
  },
  {
   "cell_type": "code",
   "execution_count": 60,
   "metadata": {},
   "outputs": [
    {
     "name": "stdout",
     "output_type": "stream",
     "text": [
      "This is my Python class\n"
     ]
    }
   ],
   "source": [
    "print(\"This is my Python class\") \n",
    "#valid because of the print funcation."
   ]
  },
  {
   "cell_type": "code",
   "execution_count": 3,
   "metadata": {},
   "outputs": [
    {
     "ename": "SyntaxError",
     "evalue": "invalid syntax (<ipython-input-3-b4c6e998c9e6>, line 1)",
     "output_type": "error",
     "traceback": [
      "\u001b[0;36m  File \u001b[0;32m\"<ipython-input-3-b4c6e998c9e6>\"\u001b[0;36m, line \u001b[0;32m1\u001b[0m\n\u001b[0;31m    x == 1 AND y > x\u001b[0m\n\u001b[0m             ^\u001b[0m\n\u001b[0;31mSyntaxError\u001b[0m\u001b[0;31m:\u001b[0m invalid syntax\n"
     ]
    }
   ],
   "source": [
    "x == 1 AND y > x \n",
    "# not valid because it is invalid syntax"
   ]
  },
  {
   "cell_type": "code",
   "execution_count": 26,
   "metadata": {},
   "outputs": [
    {
     "data": {
      "text/plain": [
       "'ohannad'"
      ]
     },
     "execution_count": 26,
     "metadata": {},
     "output_type": "execute_result"
    }
   ],
   "source": [
    "def dele(s):\n",
    "\n",
    "    return  t[1:] \n",
    "\n",
    "t = 'Mohannad'\n",
    "\n",
    "dele(t)\n",
    "\n",
    "# valid because it deleted one letter as it requested."
   ]
  },
  {
   "cell_type": "code",
   "execution_count": 2,
   "metadata": {},
   "outputs": [
    {
     "name": "stdout",
     "output_type": "stream",
     "text": [
      "It is not there\n"
     ]
    }
   ],
   "source": [
    "if \"fruit\" in \"apple\": \n",
    "\n",
    "    print(\"It is there\")\n",
    "else:\n",
    "    print('It is not there')\n",
    "\n",
    "# valid because fruit is not in apple as word, so the if condition does not print 'It is there' "
   ]
  },
  {
   "cell_type": "code",
   "execution_count": 1,
   "metadata": {},
   "outputs": [
    {
     "ename": "IndentationError",
     "evalue": "expected an indented block (<ipython-input-1-fbdc39e51510>, line 2)",
     "output_type": "error",
     "traceback": [
      "\u001b[0;36m  File \u001b[0;32m\"<ipython-input-1-fbdc39e51510>\"\u001b[0;36m, line \u001b[0;32m2\u001b[0m\n\u001b[0;31m    text = f.read().decode(\"UTF-8\")\u001b[0m\n\u001b[0m       ^\u001b[0m\n\u001b[0;31mIndentationError\u001b[0m\u001b[0;31m:\u001b[0m expected an indented block\n"
     ]
    }
   ],
   "source": [
    "with open(\"myfile.txt\", \"r\") as f:\n",
    "text = f.read().decode(\"UTF-8\")\n",
    "\n",
    "#not valid because it is expected an indented block."
   ]
  },
  {
   "cell_type": "code",
   "execution_count": 34,
   "metadata": {},
   "outputs": [
    {
     "name": "stdout",
     "output_type": "stream",
     "text": [
      "It is not working\n"
     ]
    }
   ],
   "source": [
    "foo = 0\n",
    "if(foo == None): \n",
    "    print('It is works')\n",
    "else:\n",
    "    print('It is not working')\n",
    "#valid the value of foo"
   ]
  },
  {
   "cell_type": "code",
   "execution_count": 4,
   "metadata": {},
   "outputs": [
    {
     "ename": "TypeError",
     "evalue": "'str' object does not support item assignment",
     "output_type": "error",
     "traceback": [
      "\u001b[0;31m---------------------------------------------------------------------------\u001b[0m",
      "\u001b[0;31mTypeError\u001b[0m                                 Traceback (most recent call last)",
      "\u001b[0;32m<ipython-input-4-b5fc6baccefe>\u001b[0m in \u001b[0;36m<module>\u001b[0;34m\u001b[0m\n\u001b[1;32m      1\u001b[0m \u001b[0mname\u001b[0m \u001b[0;34m=\u001b[0m \u001b[0;34m\"My name is Brenda\"\u001b[0m\u001b[0;34m\u001b[0m\u001b[0;34m\u001b[0m\u001b[0m\n\u001b[1;32m      2\u001b[0m \u001b[0;34m\u001b[0m\u001b[0m\n\u001b[0;32m----> 3\u001b[0;31m \u001b[0mname\u001b[0m\u001b[0;34m[\u001b[0m\u001b[0;36m0\u001b[0m\u001b[0;34m]\u001b[0m \u001b[0;34m=\u001b[0m \u001b[0;34m\"A\"\u001b[0m\u001b[0;34m\u001b[0m\u001b[0;34m\u001b[0m\u001b[0m\n\u001b[0m\u001b[1;32m      4\u001b[0m \u001b[0;31m#not vaild\u001b[0m\u001b[0;34m\u001b[0m\u001b[0;34m\u001b[0m\u001b[0;34m\u001b[0m\u001b[0m\n",
      "\u001b[0;31mTypeError\u001b[0m: 'str' object does not support item assignment"
     ]
    }
   ],
   "source": [
    "name = \"My name is Brenda\"\n",
    "\n",
    "name[0] = \"A\" \n",
    "#not vaild because 'str' object does not support item assignment"
   ]
  },
  {
   "cell_type": "code",
   "execution_count": 5,
   "metadata": {},
   "outputs": [
    {
     "data": {
      "text/plain": [
       "27"
      ]
     },
     "execution_count": 5,
     "metadata": {},
     "output_type": "execute_result"
    }
   ],
   "source": [
    "x = 3 \n",
    "\n",
    "x**3\n",
    "\n",
    "#valid because we put a value for 'x' which 3, so 27 is the result of 3*3*3."
   ]
  },
  {
   "cell_type": "code",
   "execution_count": 6,
   "metadata": {},
   "outputs": [
    {
     "data": {
      "text/plain": [
       "6"
      ]
     },
     "execution_count": 6,
     "metadata": {},
     "output_type": "execute_result"
    }
   ],
   "source": [
    "20%7 \n",
    "#valid"
   ]
  },
  {
   "cell_type": "markdown",
   "metadata": {},
   "source": [
    "Question 2. (15 points). Write a program to prompt for a score between 0 and 100. \n",
    "If the score is out of range, print an error message. \n",
    "If the score is between 0 and 100, print a grade using the following table:\n",
    "Score Grade \n",
    ">= 90 A\n",
    ">= 80 B\n",
    ">= 70 C\n",
    ">= 60 D\n",
    "< 60 F"
   ]
  },
  {
   "cell_type": "code",
   "execution_count": 1,
   "metadata": {},
   "outputs": [
    {
     "name": "stdout",
     "output_type": "stream",
     "text": [
      "Insert your final grade: \n",
      "101\n",
      "error: you inserted a wrong number!\n",
      "Insert your final grade between 0 to 100: \n",
      "100\n",
      "your grade is: A\n"
     ]
    }
   ],
   "source": [
    "\n",
    "# ask the user to insert his grade.\n",
    "chose = int(input('Insert your final grade: \\n'))\n",
    "#if condition, which means that the entred number must go through these codes \n",
    "#which the condtion fits it.\n",
    "if chose >100 or chose <0:\n",
    "     print('error: you inserted a wrong number!')\n",
    "chose = int(input('Insert your final grade between 0 to 100: \\n'))       \n",
    "if chose  >= 100 or chose >= 90 : \n",
    "    print('your grade is: A')\n",
    "elif chose >= 89 or chose >= 80 : \n",
    "    print('your grade is: B')\n",
    "elif chose >= 79 or chose >= 70: \n",
    "    print('your grade is: C')\n",
    "elif chose >= 69 or chose >= 60: \n",
    "    print('your grade is: D')\n",
    "elif chose < 60:\n",
    "     print('your grade is: F')"
   ]
  },
  {
   "cell_type": "markdown",
   "metadata": {},
   "source": [
    "Question 3. (20 points). Write a Python program to generate 12 random numbers between 1 and 100. Sort the list of numbers in ascending order and print it out. Sort the list of numbers in descending order and print it out. Calculate the average for the group and print it out."
   ]
  },
  {
   "cell_type": "code",
   "execution_count": 55,
   "metadata": {},
   "outputs": [
    {
     "name": "stdout",
     "output_type": "stream",
     "text": [
      "Generated 12 random number between 1 and 100: \n",
      "  [83, 92, 43, 48, 51, 96, 84, 98, 49, 11, 86, 60]\n",
      "----------------\n",
      "The sorted list(ascending): \n",
      " [11, 43, 48, 49, 51, 60, 83, 84, 86, 92, 96, 98]\n",
      "----------------\n",
      "The sorted list: (dcending)\n",
      " [98, 96, 92, 86, 84, 83, 60, 51, 49, 48, 43, 11]\n",
      "----------------------\n",
      "The average of: [98, 96, 92, 86, 84, 83, 60, 51, 49, 48, 43, 11] is:  66.75\n"
     ]
    }
   ],
   "source": [
    "#homework Question 3\n",
    "#imprting random and math\n",
    "import random\n",
    "#Generated 12 random number between 1 and 100.\n",
    "random_numbers = random.sample(range(1, 100), 12)\n",
    "print('Generated 12 random number between 1 and 100: \\n ', random_numbers)\n",
    "print('----------------')\n",
    "#Sort the list of numbers in ascending order and print it out.\n",
    "sort_the_generated_numbers = sorted(random_numbers)\n",
    "print('The sorted list(ascending): \\n' , sort_the_generated_numbers)\n",
    "print('----------------')\n",
    "sort_the_generated_numbers=sorted(random_numbers,reverse=True)\n",
    "print('The sorted list: (dcending)\\n' , sort_the_generated_numbers)\n",
    "print('----------------------')\n",
    "#Calculate the average for the group and print it out.\n",
    "print('The average of:', sort_the_generated_numbers, 'is: ',\n",
    "      sum(random_numbers)/len(random_numbers))"
   ]
  },
  {
   "cell_type": "markdown",
   "metadata": {},
   "source": [
    "Question 4. (20 points). The formula that describes the volume V of a sphere with radius r is the following:\n",
    "𝑉 = 3 ∗ 𝜋 ∗ 𝑟3\n",
    "\n",
    "Write a program to calculate the value of V when r is in the range of 1– 10. Output the result in the following format:\n",
    "r     V \n",
    "1    ... \n",
    "2    ... \n",
    "3    ..."
   ]
  },
  {
   "cell_type": "code",
   "execution_count": 59,
   "metadata": {},
   "outputs": [
    {
     "name": "stdout",
     "output_type": "stream",
     "text": [
      "r \t v\n",
      "1 \t 4.1887902047863905\n",
      "2 \t 33.510321638291124\n",
      "3 \t 113.09733552923254\n",
      "4 \t 268.082573106329\n",
      "5 \t 523.5987755982987\n",
      "6 \t 904.7786842338603\n",
      "7 \t 1436.755040241732\n",
      "8 \t 2144.660584850632\n",
      "9 \t 3053.6280592892786\n",
      "10 \t 4188.79020478639\n"
     ]
    }
   ],
   "source": [
    "#hoemwork Question 4\n",
    "import math\n",
    "pi = 3.141592653589793\n",
    "print('r','\\t','v')\n",
    "for r in range(1, 11):\n",
    "    v = (4/3) * (pi * r**3)\n",
    "    print(r,'\\t',v)"
   ]
  },
  {
   "cell_type": "markdown",
   "metadata": {},
   "source": [
    "Question 5. (25 points). Write a program that will do the following string formatting tasks:\n",
    "5.1 Ask the user to enter two sentences\n",
    "5.2 Make each sentence into a list. Each element in the list should correspond to\n",
    "a word in the sentence. For example, if the sentence is \"Alas! Am I alive? This is my first python program\", the program should print out ['Alas!', 'Am', 'I', 'alive?', 'This', 'is', 'my', 'first', 'python', 'program'] or ['Alas, '!', 'Am', 'I', 'alive, '?', 'This', 'is', 'my', 'first', 'python', 'program']\n",
    "5.3 Compare the two sentences. Print out a list of words that occur in both sentences.\n",
    "5.4 Remove any punctuation from the sentence and print it back out. It should remove at least the following characters, but it can remove more: period(“.”), comma (“,”), semicolon (“;”), and colon (“:”)\n",
    "5.5 Count the number of vowels in the sentences. Print out each vowel and the number of times it appears in the sentences, such as: a:2, e:1, i:0, etc."
   ]
  },
  {
   "cell_type": "code",
   "execution_count": 3,
   "metadata": {},
   "outputs": [
    {
     "name": "stdout",
     "output_type": "stream",
     "text": [
      "insert a sentence: \n",
      "I am Mohammaf\n",
      "insert another sentence: \n",
      "Hi! I think you have wrong letter!@#$\n",
      "-------------------\n",
      "The common words in you sentences: \n",
      " \n",
      "{'I'}\n",
      "-------------------\n",
      "After removing the punctuations: \n",
      "\n",
      "I am Mohammaf\n",
      "Hi I think you have wrong letter\n",
      "-------------------\n",
      "The vowels in your sentences: \n",
      " a 3 1\n",
      "The vowels in your sentences: \n",
      " e 0 3\n",
      "The vowels in your sentences: \n",
      " i 1 3\n",
      "The vowels in your sentences: \n",
      " o 1 2\n",
      "The vowels in your sentences: \n",
      " u 0 1\n"
     ]
    }
   ],
   "source": [
    "#homework Question 5\n",
    "# this is for the user to input.\n",
    "s = input('insert a sentence: \\n')\n",
    "m = input('insert another sentence: \\n')\n",
    "#this is to split the words not letters.\n",
    "s_words = s.split() \n",
    "m_words = m.split()\n",
    "print('-------------------')\n",
    "print('The common words in you sentences: \\n ')\n",
    "#to find the common words in the sentence. \n",
    "common = set(s_words).intersection( set(m_words) )\n",
    "print(common)\n",
    "print('-------------------')\n",
    "print('After removing the punctuations: \\n')\n",
    "# the punctuations that wanted to remove it.\n",
    "punctuations = '''!()-[]{};:'\"\\,<>./?@#$%^&*_~'''\n",
    "remove_punct = \"\"\n",
    "remo_punct = \"\"\n",
    "#remove the punctuations from the first sentence.\n",
    "for c in s:\n",
    "    if c not in punctuations:\n",
    "        remove_punct = remove_punct + c\n",
    "print(remove_punct)\n",
    "#remove the punctuations from the second sentence.\n",
    "for c in m:\n",
    "    if c not in punctuations:\n",
    "        remo_punct = remo_punct + c\n",
    "print(remo_punct)\n",
    "print('-------------------')\n",
    "#to count the vowels in the sentence. \n",
    "vowels = \"aeiou\"\n",
    "for v in vowels:\n",
    "    print('The vowels in your sentences: \\n' ,v, s.lower().count(v), m.lower().count(v))"
   ]
  }
 ],
 "metadata": {
  "kernelspec": {
   "display_name": "Python 3",
   "language": "python",
   "name": "python3"
  },
  "language_info": {
   "codemirror_mode": {
    "name": "ipython",
    "version": 3
   },
   "file_extension": ".py",
   "mimetype": "text/x-python",
   "name": "python",
   "nbconvert_exporter": "python",
   "pygments_lexer": "ipython3",
   "version": "3.7.1"
  }
 },
 "nbformat": 4,
 "nbformat_minor": 2
}
