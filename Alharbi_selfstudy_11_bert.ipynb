{
  "nbformat": 4,
  "nbformat_minor": 0,
  "metadata": {
    "colab": {
      "name": "Alharbi_selfstudy 11- bert.ipynb",
      "version": "0.3.2",
      "provenance": [],
      "toc_visible": true
    },
    "kernelspec": {
      "name": "python3",
      "display_name": "Python 3"
    },
    "accelerator": "GPU"
  },
  "cells": [
    {
      "metadata": {
        "id": "asO1_1nrVvCl",
        "colab_type": "text"
      },
      "cell_type": "markdown",
      "source": [
        "# bert-text-classification"
      ]
    },
    {
      "metadata": {
        "id": "rjmCjEhJVX5I",
        "colab_type": "code",
        "colab": {
          "base_uri": "https://localhost:8080/",
          "height": 615
        },
        "outputId": "e7119b23-0d2b-4903-8648-6073482c1ce8"
      },
      "cell_type": "code",
      "source": [
        "!pip install bert-text"
      ],
      "execution_count": 4,
      "outputs": [
        {
          "output_type": "stream",
          "text": [
            "Collecting bert-text\n",
            "  Downloading https://files.pythonhosted.org/packages/0b/1d/3c7226547cd6a2ba54586dfd80a49f64a0936f9bcb945a4686e843a1956a/bert_text-5.0.0-py3-none-any.whl\n",
            "Requirement already satisfied: tqdm in /usr/local/lib/python3.6/dist-packages (from bert-text) (4.28.1)\n",
            "Collecting bert-tensorflow (from bert-text)\n",
            "\u001b[?25l  Downloading https://files.pythonhosted.org/packages/a6/66/7eb4e8b6ea35b7cc54c322c816f976167a43019750279a8473d355800a93/bert_tensorflow-1.0.1-py2.py3-none-any.whl (67kB)\n",
            "\u001b[K    100% |████████████████████████████████| 71kB 4.7MB/s \n",
            "\u001b[?25hRequirement already satisfied: tensorflow-hub in /usr/local/lib/python3.6/dist-packages (from bert-text) (0.4.0)\n",
            "Collecting tensorflow-gpu (from bert-text)\n",
            "\u001b[?25l  Downloading https://files.pythonhosted.org/packages/7b/b1/0ad4ae02e17ddd62109cd54c291e311c4b5fd09b4d0678d3d6ce4159b0f0/tensorflow_gpu-1.13.1-cp36-cp36m-manylinux1_x86_64.whl (345.2MB)\n",
            "\u001b[K    100% |████████████████████████████████| 345.2MB 48kB/s \n",
            "\u001b[?25hRequirement already satisfied: six in /usr/local/lib/python3.6/dist-packages (from bert-text) (1.11.0)\n",
            "Requirement already satisfied: pandas in /usr/local/lib/python3.6/dist-packages (from bert-text) (0.23.4)\n",
            "Requirement already satisfied: numpy>=1.12.0 in /usr/local/lib/python3.6/dist-packages (from tensorflow-hub->bert-text) (1.16.2)\n",
            "Requirement already satisfied: protobuf>=3.4.0 in /usr/local/lib/python3.6/dist-packages (from tensorflow-hub->bert-text) (3.7.1)\n",
            "Requirement already satisfied: gast>=0.2.0 in /usr/local/lib/python3.6/dist-packages (from tensorflow-gpu->bert-text) (0.2.2)\n",
            "Requirement already satisfied: absl-py>=0.1.6 in /usr/local/lib/python3.6/dist-packages (from tensorflow-gpu->bert-text) (0.7.1)\n",
            "Requirement already satisfied: wheel>=0.26 in /usr/local/lib/python3.6/dist-packages (from tensorflow-gpu->bert-text) (0.33.1)\n",
            "Requirement already satisfied: grpcio>=1.8.6 in /usr/local/lib/python3.6/dist-packages (from tensorflow-gpu->bert-text) (1.15.0)\n",
            "Requirement already satisfied: termcolor>=1.1.0 in /usr/local/lib/python3.6/dist-packages (from tensorflow-gpu->bert-text) (1.1.0)\n",
            "Requirement already satisfied: tensorboard<1.14.0,>=1.13.0 in /usr/local/lib/python3.6/dist-packages (from tensorflow-gpu->bert-text) (1.13.1)\n",
            "Requirement already satisfied: keras-applications>=1.0.6 in /usr/local/lib/python3.6/dist-packages (from tensorflow-gpu->bert-text) (1.0.7)\n",
            "Requirement already satisfied: astor>=0.6.0 in /usr/local/lib/python3.6/dist-packages (from tensorflow-gpu->bert-text) (0.7.1)\n",
            "Requirement already satisfied: keras-preprocessing>=1.0.5 in /usr/local/lib/python3.6/dist-packages (from tensorflow-gpu->bert-text) (1.0.9)\n",
            "Requirement already satisfied: tensorflow-estimator<1.14.0rc0,>=1.13.0 in /usr/local/lib/python3.6/dist-packages (from tensorflow-gpu->bert-text) (1.13.0)\n",
            "Requirement already satisfied: pytz>=2011k in /usr/local/lib/python3.6/dist-packages (from pandas->bert-text) (2018.9)\n",
            "Requirement already satisfied: python-dateutil>=2.5.0 in /usr/local/lib/python3.6/dist-packages (from pandas->bert-text) (2.5.3)\n",
            "Requirement already satisfied: setuptools in /usr/local/lib/python3.6/dist-packages (from protobuf>=3.4.0->tensorflow-hub->bert-text) (40.9.0)\n",
            "Requirement already satisfied: werkzeug>=0.11.15 in /usr/local/lib/python3.6/dist-packages (from tensorboard<1.14.0,>=1.13.0->tensorflow-gpu->bert-text) (0.15.2)\n",
            "Requirement already satisfied: markdown>=2.6.8 in /usr/local/lib/python3.6/dist-packages (from tensorboard<1.14.0,>=1.13.0->tensorflow-gpu->bert-text) (3.1)\n",
            "Requirement already satisfied: h5py in /usr/local/lib/python3.6/dist-packages (from keras-applications>=1.0.6->tensorflow-gpu->bert-text) (2.8.0)\n",
            "Requirement already satisfied: mock>=2.0.0 in /usr/local/lib/python3.6/dist-packages (from tensorflow-estimator<1.14.0rc0,>=1.13.0->tensorflow-gpu->bert-text) (2.0.0)\n",
            "Requirement already satisfied: pbr>=0.11 in /usr/local/lib/python3.6/dist-packages (from mock>=2.0.0->tensorflow-estimator<1.14.0rc0,>=1.13.0->tensorflow-gpu->bert-text) (5.1.3)\n",
            "Installing collected packages: bert-tensorflow, tensorflow-gpu, bert-text\n",
            "Successfully installed bert-tensorflow-1.0.1 bert-text-5.0.0 tensorflow-gpu-1.13.1\n"
          ],
          "name": "stdout"
        }
      ]
    },
    {
      "metadata": {
        "id": "kJY0CtdzVh4Q",
        "colab_type": "code",
        "colab": {
          "base_uri": "https://localhost:8080/",
          "height": 71
        },
        "outputId": "f7881045-773b-48e7-b4a9-e3308b1b3ecb"
      },
      "cell_type": "code",
      "source": [
        "from bert_text import run_on_dfs"
      ],
      "execution_count": 5,
      "outputs": [
        {
          "output_type": "stream",
          "text": [
            "WARNING: Logging before flag parsing goes to stderr.\n",
            "W0416 04:18:31.958503 140601142413184 __init__.py:56] Some hub symbols are not available because TensorFlow version is less than 1.14\n"
          ],
          "name": "stderr"
        }
      ]
    },
    {
      "metadata": {
        "id": "008GavHOV8EU",
        "colab_type": "code",
        "colab": {}
      },
      "cell_type": "code",
      "source": [
        "import pickle"
      ],
      "execution_count": 0,
      "outputs": []
    },
    {
      "metadata": {
        "id": "tw5tHEmXV98Q",
        "colab_type": "code",
        "colab": {}
      },
      "cell_type": "code",
      "source": [
        "with open(\"imdb-review.pickle\", 'rb') as f:\n",
        "  train, test = pickle.load(f)"
      ],
      "execution_count": 0,
      "outputs": []
    },
    {
      "metadata": {
        "id": "XoVfr9PkXd4x",
        "colab_type": "code",
        "colab": {
          "base_uri": "https://localhost:8080/",
          "height": 204
        },
        "outputId": "a32f36f6-0a52-4fb2-edd5-22d0c5c26260"
      },
      "cell_type": "code",
      "source": [
        "train.head()"
      ],
      "execution_count": 8,
      "outputs": [
        {
          "output_type": "execute_result",
          "data": {
            "text/html": [
              "<div>\n",
              "<style scoped>\n",
              "    .dataframe tbody tr th:only-of-type {\n",
              "        vertical-align: middle;\n",
              "    }\n",
              "\n",
              "    .dataframe tbody tr th {\n",
              "        vertical-align: top;\n",
              "    }\n",
              "\n",
              "    .dataframe thead th {\n",
              "        text-align: right;\n",
              "    }\n",
              "</style>\n",
              "<table border=\"1\" class=\"dataframe\">\n",
              "  <thead>\n",
              "    <tr style=\"text-align: right;\">\n",
              "      <th></th>\n",
              "      <th>text</th>\n",
              "      <th>sentiment</th>\n",
              "    </tr>\n",
              "  </thead>\n",
              "  <tbody>\n",
              "    <tr>\n",
              "      <th>0</th>\n",
              "      <td>For a movie that gets no respect there sure ar...</td>\n",
              "      <td>1</td>\n",
              "    </tr>\n",
              "    <tr>\n",
              "      <th>1</th>\n",
              "      <td>Bizarre horror movie filled with famous faces ...</td>\n",
              "      <td>1</td>\n",
              "    </tr>\n",
              "    <tr>\n",
              "      <th>2</th>\n",
              "      <td>A solid, if unremarkable film. Matthau, as Ein...</td>\n",
              "      <td>1</td>\n",
              "    </tr>\n",
              "    <tr>\n",
              "      <th>3</th>\n",
              "      <td>It's a strange feeling to sit alone in a theat...</td>\n",
              "      <td>1</td>\n",
              "    </tr>\n",
              "    <tr>\n",
              "      <th>4</th>\n",
              "      <td>You probably all already know this by now, but...</td>\n",
              "      <td>1</td>\n",
              "    </tr>\n",
              "  </tbody>\n",
              "</table>\n",
              "</div>"
            ],
            "text/plain": [
              "                                                text  sentiment\n",
              "0  For a movie that gets no respect there sure ar...          1\n",
              "1  Bizarre horror movie filled with famous faces ...          1\n",
              "2  A solid, if unremarkable film. Matthau, as Ein...          1\n",
              "3  It's a strange feeling to sit alone in a theat...          1\n",
              "4  You probably all already know this by now, but...          1"
            ]
          },
          "metadata": {
            "tags": []
          },
          "execution_count": 8
        }
      ]
    },
    {
      "metadata": {
        "id": "Uqd2dH-xWA9-",
        "colab_type": "code",
        "colab": {}
      },
      "cell_type": "code",
      "source": [
        "train = train.sample(len(train))"
      ],
      "execution_count": 0,
      "outputs": []
    },
    {
      "metadata": {
        "id": "dxcFxnfbXlTM",
        "colab_type": "code",
        "colab": {
          "base_uri": "https://localhost:8080/",
          "height": 204
        },
        "outputId": "3f1a34fe-5b92-421a-88c8-76d712547fe2"
      },
      "cell_type": "code",
      "source": [
        "train.head()"
      ],
      "execution_count": 10,
      "outputs": [
        {
          "output_type": "execute_result",
          "data": {
            "text/html": [
              "<div>\n",
              "<style scoped>\n",
              "    .dataframe tbody tr th:only-of-type {\n",
              "        vertical-align: middle;\n",
              "    }\n",
              "\n",
              "    .dataframe tbody tr th {\n",
              "        vertical-align: top;\n",
              "    }\n",
              "\n",
              "    .dataframe thead th {\n",
              "        text-align: right;\n",
              "    }\n",
              "</style>\n",
              "<table border=\"1\" class=\"dataframe\">\n",
              "  <thead>\n",
              "    <tr style=\"text-align: right;\">\n",
              "      <th></th>\n",
              "      <th>text</th>\n",
              "      <th>sentiment</th>\n",
              "    </tr>\n",
              "  </thead>\n",
              "  <tbody>\n",
              "    <tr>\n",
              "      <th>15835</th>\n",
              "      <td>I think a round of applause is in order for wh...</td>\n",
              "      <td>0</td>\n",
              "    </tr>\n",
              "    <tr>\n",
              "      <th>8637</th>\n",
              "      <td>Not only is this movie a great film for basic ...</td>\n",
              "      <td>1</td>\n",
              "    </tr>\n",
              "    <tr>\n",
              "      <th>2131</th>\n",
              "      <td>This is a family film, which to some people is...</td>\n",
              "      <td>1</td>\n",
              "    </tr>\n",
              "    <tr>\n",
              "      <th>11768</th>\n",
              "      <td>I first discovered Alexander Korda's (1940) Fa...</td>\n",
              "      <td>1</td>\n",
              "    </tr>\n",
              "    <tr>\n",
              "      <th>9965</th>\n",
              "      <td>A young woman who is a successful model, and i...</td>\n",
              "      <td>1</td>\n",
              "    </tr>\n",
              "  </tbody>\n",
              "</table>\n",
              "</div>"
            ],
            "text/plain": [
              "                                                    text  sentiment\n",
              "15835  I think a round of applause is in order for wh...          0\n",
              "8637   Not only is this movie a great film for basic ...          1\n",
              "2131   This is a family film, which to some people is...          1\n",
              "11768  I first discovered Alexander Korda's (1940) Fa...          1\n",
              "9965   A young woman who is a successful model, and i...          1"
            ]
          },
          "metadata": {
            "tags": []
          },
          "execution_count": 10
        }
      ]
    },
    {
      "metadata": {
        "id": "TdJT-95wW2YS",
        "colab_type": "code",
        "colab": {}
      },
      "cell_type": "code",
      "source": [
        "myparam = {\n",
        "    \"DATA_COLUMN\": \"text\",\n",
        "    \"LABEL_COLUMN\": \"sentiment\",\n",
        "    \"LEARNING_RATE\": 2e-5,\n",
        "    \"NUM_TRAIN_EPOCHS\": 3\n",
        "}"
      ],
      "execution_count": 0,
      "outputs": []
    },
    {
      "metadata": {
        "id": "530n8CaoXxbk",
        "colab_type": "code",
        "colab": {}
      },
      "cell_type": "code",
      "source": [
        "import tensorflow as tf\n",
        "tf.logging.set_verbosity(tf.logging.INFO)"
      ],
      "execution_count": 0,
      "outputs": []
    },
    {
      "metadata": {
        "id": "g-1ZoYB0YFGt",
        "colab_type": "code",
        "colab": {
          "base_uri": "https://localhost:8080/",
          "height": 6004
        },
        "outputId": "9272494a-1730-4e90-9fdc-541becaa27aa"
      },
      "cell_type": "code",
      "source": [
        "result, estimator = run_on_dfs(train, test, **myparam)"
      ],
      "execution_count": 13,
      "outputs": [
        {
          "output_type": "stream",
          "text": [
            "WARNING:tensorflow:From /usr/local/lib/python3.6/dist-packages/tensorflow/python/ops/control_flow_ops.py:3632: colocate_with (from tensorflow.python.framework.ops) is deprecated and will be removed in a future version.\n",
            "Instructions for updating:\n",
            "Colocations handled automatically by placer.\n"
          ],
          "name": "stdout"
        },
        {
          "output_type": "stream",
          "text": [
            "W0416 04:21:24.251304 140601142413184 deprecation.py:323] From /usr/local/lib/python3.6/dist-packages/tensorflow/python/ops/control_flow_ops.py:3632: colocate_with (from tensorflow.python.framework.ops) is deprecated and will be removed in a future version.\n",
            "Instructions for updating:\n",
            "Colocations handled automatically by placer.\n"
          ],
          "name": "stderr"
        },
        {
          "output_type": "stream",
          "text": [
            "INFO:tensorflow:Saver not created because there are no variables in the graph to restore\n"
          ],
          "name": "stdout"
        },
        {
          "output_type": "stream",
          "text": [
            "I0416 04:21:26.302665 140601142413184 saver.py:1483] Saver not created because there are no variables in the graph to restore\n"
          ],
          "name": "stderr"
        },
        {
          "output_type": "stream",
          "text": [
            "INFO:tensorflow:Writing example 0 of 25000\n"
          ],
          "name": "stdout"
        },
        {
          "output_type": "stream",
          "text": [
            "I0416 04:21:27.872394 140601142413184 run_classifier.py:774] Writing example 0 of 25000\n"
          ],
          "name": "stderr"
        },
        {
          "output_type": "stream",
          "text": [
            "INFO:tensorflow:*** Example ***\n"
          ],
          "name": "stdout"
        },
        {
          "output_type": "stream",
          "text": [
            "I0416 04:21:27.891490 140601142413184 run_classifier.py:461] *** Example ***\n"
          ],
          "name": "stderr"
        },
        {
          "output_type": "stream",
          "text": [
            "INFO:tensorflow:guid: None\n"
          ],
          "name": "stdout"
        },
        {
          "output_type": "stream",
          "text": [
            "I0416 04:21:27.892903 140601142413184 run_classifier.py:462] guid: None\n"
          ],
          "name": "stderr"
        },
        {
          "output_type": "stream",
          "text": [
            "INFO:tensorflow:tokens: [CLS] i think a round of applause is in order for whoever piece ##d together the trailer for rogue pictures ' latest release , ' the return ' . i myself , along with everyone else have been du ##ped into believing it is in fact a horror film . on the contrary though , its actually a supernatural thriller . too bad it is not the least bit thrilling . < br / > < br / > ' the return ' stars sarah michelle gel ##lar as joanna mills , a young woman who has had personal problems since the age of eleven . it was at that age that she began having haunting visions depicting the murder of a woman whom she has never [SEP]\n"
          ],
          "name": "stdout"
        },
        {
          "output_type": "stream",
          "text": [
            "I0416 04:21:27.895694 140601142413184 run_classifier.py:464] tokens: [CLS] i think a round of applause is in order for whoever piece ##d together the trailer for rogue pictures ' latest release , ' the return ' . i myself , along with everyone else have been du ##ped into believing it is in fact a horror film . on the contrary though , its actually a supernatural thriller . too bad it is not the least bit thrilling . < br / > < br / > ' the return ' stars sarah michelle gel ##lar as joanna mills , a young woman who has had personal problems since the age of eleven . it was at that age that she began having haunting visions depicting the murder of a woman whom she has never [SEP]\n"
          ],
          "name": "stderr"
        },
        {
          "output_type": "stream",
          "text": [
            "INFO:tensorflow:input_ids: 101 1045 2228 1037 2461 1997 20737 2003 1999 2344 2005 9444 3538 2094 2362 1996 9117 2005 12406 4620 1005 6745 2713 1010 1005 1996 2709 1005 1012 1045 2870 1010 2247 2007 3071 2842 2031 2042 4241 5669 2046 8929 2009 2003 1999 2755 1037 5469 2143 1012 2006 1996 10043 2295 1010 2049 2941 1037 11189 10874 1012 2205 2919 2009 2003 2025 1996 2560 2978 26162 1012 1026 7987 1013 1028 1026 7987 1013 1028 1005 1996 2709 1005 3340 4532 9393 21500 8017 2004 15730 6341 1010 1037 2402 2450 2040 2038 2018 3167 3471 2144 1996 2287 1997 5408 1012 2009 2001 2012 2008 2287 2008 2016 2211 2383 20161 12018 10775 1996 4028 1997 1037 2450 3183 2016 2038 2196 102\n"
          ],
          "name": "stdout"
        },
        {
          "output_type": "stream",
          "text": [
            "I0416 04:21:27.899492 140601142413184 run_classifier.py:465] input_ids: 101 1045 2228 1037 2461 1997 20737 2003 1999 2344 2005 9444 3538 2094 2362 1996 9117 2005 12406 4620 1005 6745 2713 1010 1005 1996 2709 1005 1012 1045 2870 1010 2247 2007 3071 2842 2031 2042 4241 5669 2046 8929 2009 2003 1999 2755 1037 5469 2143 1012 2006 1996 10043 2295 1010 2049 2941 1037 11189 10874 1012 2205 2919 2009 2003 2025 1996 2560 2978 26162 1012 1026 7987 1013 1028 1026 7987 1013 1028 1005 1996 2709 1005 3340 4532 9393 21500 8017 2004 15730 6341 1010 1037 2402 2450 2040 2038 2018 3167 3471 2144 1996 2287 1997 5408 1012 2009 2001 2012 2008 2287 2008 2016 2211 2383 20161 12018 10775 1996 4028 1997 1037 2450 3183 2016 2038 2196 102\n"
          ],
          "name": "stderr"
        },
        {
          "output_type": "stream",
          "text": [
            "INFO:tensorflow:input_mask: 1 1 1 1 1 1 1 1 1 1 1 1 1 1 1 1 1 1 1 1 1 1 1 1 1 1 1 1 1 1 1 1 1 1 1 1 1 1 1 1 1 1 1 1 1 1 1 1 1 1 1 1 1 1 1 1 1 1 1 1 1 1 1 1 1 1 1 1 1 1 1 1 1 1 1 1 1 1 1 1 1 1 1 1 1 1 1 1 1 1 1 1 1 1 1 1 1 1 1 1 1 1 1 1 1 1 1 1 1 1 1 1 1 1 1 1 1 1 1 1 1 1 1 1 1 1 1 1\n"
          ],
          "name": "stdout"
        },
        {
          "output_type": "stream",
          "text": [
            "I0416 04:21:27.901598 140601142413184 run_classifier.py:466] input_mask: 1 1 1 1 1 1 1 1 1 1 1 1 1 1 1 1 1 1 1 1 1 1 1 1 1 1 1 1 1 1 1 1 1 1 1 1 1 1 1 1 1 1 1 1 1 1 1 1 1 1 1 1 1 1 1 1 1 1 1 1 1 1 1 1 1 1 1 1 1 1 1 1 1 1 1 1 1 1 1 1 1 1 1 1 1 1 1 1 1 1 1 1 1 1 1 1 1 1 1 1 1 1 1 1 1 1 1 1 1 1 1 1 1 1 1 1 1 1 1 1 1 1 1 1 1 1 1 1\n"
          ],
          "name": "stderr"
        },
        {
          "output_type": "stream",
          "text": [
            "INFO:tensorflow:segment_ids: 0 0 0 0 0 0 0 0 0 0 0 0 0 0 0 0 0 0 0 0 0 0 0 0 0 0 0 0 0 0 0 0 0 0 0 0 0 0 0 0 0 0 0 0 0 0 0 0 0 0 0 0 0 0 0 0 0 0 0 0 0 0 0 0 0 0 0 0 0 0 0 0 0 0 0 0 0 0 0 0 0 0 0 0 0 0 0 0 0 0 0 0 0 0 0 0 0 0 0 0 0 0 0 0 0 0 0 0 0 0 0 0 0 0 0 0 0 0 0 0 0 0 0 0 0 0 0 0\n"
          ],
          "name": "stdout"
        },
        {
          "output_type": "stream",
          "text": [
            "I0416 04:21:27.904312 140601142413184 run_classifier.py:467] segment_ids: 0 0 0 0 0 0 0 0 0 0 0 0 0 0 0 0 0 0 0 0 0 0 0 0 0 0 0 0 0 0 0 0 0 0 0 0 0 0 0 0 0 0 0 0 0 0 0 0 0 0 0 0 0 0 0 0 0 0 0 0 0 0 0 0 0 0 0 0 0 0 0 0 0 0 0 0 0 0 0 0 0 0 0 0 0 0 0 0 0 0 0 0 0 0 0 0 0 0 0 0 0 0 0 0 0 0 0 0 0 0 0 0 0 0 0 0 0 0 0 0 0 0 0 0 0 0 0 0\n"
          ],
          "name": "stderr"
        },
        {
          "output_type": "stream",
          "text": [
            "INFO:tensorflow:label: 0 (id = 0)\n"
          ],
          "name": "stdout"
        },
        {
          "output_type": "stream",
          "text": [
            "I0416 04:21:27.907624 140601142413184 run_classifier.py:468] label: 0 (id = 0)\n"
          ],
          "name": "stderr"
        },
        {
          "output_type": "stream",
          "text": [
            "INFO:tensorflow:*** Example ***\n"
          ],
          "name": "stdout"
        },
        {
          "output_type": "stream",
          "text": [
            "I0416 04:21:27.920918 140601142413184 run_classifier.py:461] *** Example ***\n"
          ],
          "name": "stderr"
        },
        {
          "output_type": "stream",
          "text": [
            "INFO:tensorflow:guid: None\n"
          ],
          "name": "stdout"
        },
        {
          "output_type": "stream",
          "text": [
            "I0416 04:21:27.922815 140601142413184 run_classifier.py:462] guid: None\n"
          ],
          "name": "stderr"
        },
        {
          "output_type": "stream",
          "text": [
            "INFO:tensorflow:tokens: [CLS] not only is this movie a great film for basic cinematography ( screenplay , acting , setting , etc . ) but also for it ' s realism . this movie could take place in any farm or rural setting . it makes no difference if the movie takes place in louisiana or if it would take place in kansas . the story and the messages it includes would remain the same . this movie shows family values and connections for an older audience , while at the same time it shows youthful behavior for the younger viewers . everyone who watches this will walk away with something having touched them personally , i know i did . the ending hits way too close to home [SEP]\n"
          ],
          "name": "stdout"
        },
        {
          "output_type": "stream",
          "text": [
            "I0416 04:21:27.924239 140601142413184 run_classifier.py:464] tokens: [CLS] not only is this movie a great film for basic cinematography ( screenplay , acting , setting , etc . ) but also for it ' s realism . this movie could take place in any farm or rural setting . it makes no difference if the movie takes place in louisiana or if it would take place in kansas . the story and the messages it includes would remain the same . this movie shows family values and connections for an older audience , while at the same time it shows youthful behavior for the younger viewers . everyone who watches this will walk away with something having touched them personally , i know i did . the ending hits way too close to home [SEP]\n"
          ],
          "name": "stderr"
        },
        {
          "output_type": "stream",
          "text": [
            "INFO:tensorflow:input_ids: 101 2025 2069 2003 2023 3185 1037 2307 2143 2005 3937 16434 1006 9000 1010 3772 1010 4292 1010 4385 1012 1007 2021 2036 2005 2009 1005 1055 15650 1012 2023 3185 2071 2202 2173 1999 2151 3888 2030 3541 4292 1012 2009 3084 2053 4489 2065 1996 3185 3138 2173 1999 5773 2030 2065 2009 2052 2202 2173 1999 5111 1012 1996 2466 1998 1996 7696 2009 2950 2052 3961 1996 2168 1012 2023 3185 3065 2155 5300 1998 7264 2005 2019 3080 4378 1010 2096 2012 1996 2168 2051 2009 3065 22446 5248 2005 1996 3920 7193 1012 3071 2040 12197 2023 2097 3328 2185 2007 2242 2383 5028 2068 7714 1010 1045 2113 1045 2106 1012 1996 4566 4978 2126 2205 2485 2000 2188 102\n"
          ],
          "name": "stdout"
        },
        {
          "output_type": "stream",
          "text": [
            "I0416 04:21:27.925806 140601142413184 run_classifier.py:465] input_ids: 101 2025 2069 2003 2023 3185 1037 2307 2143 2005 3937 16434 1006 9000 1010 3772 1010 4292 1010 4385 1012 1007 2021 2036 2005 2009 1005 1055 15650 1012 2023 3185 2071 2202 2173 1999 2151 3888 2030 3541 4292 1012 2009 3084 2053 4489 2065 1996 3185 3138 2173 1999 5773 2030 2065 2009 2052 2202 2173 1999 5111 1012 1996 2466 1998 1996 7696 2009 2950 2052 3961 1996 2168 1012 2023 3185 3065 2155 5300 1998 7264 2005 2019 3080 4378 1010 2096 2012 1996 2168 2051 2009 3065 22446 5248 2005 1996 3920 7193 1012 3071 2040 12197 2023 2097 3328 2185 2007 2242 2383 5028 2068 7714 1010 1045 2113 1045 2106 1012 1996 4566 4978 2126 2205 2485 2000 2188 102\n"
          ],
          "name": "stderr"
        },
        {
          "output_type": "stream",
          "text": [
            "INFO:tensorflow:input_mask: 1 1 1 1 1 1 1 1 1 1 1 1 1 1 1 1 1 1 1 1 1 1 1 1 1 1 1 1 1 1 1 1 1 1 1 1 1 1 1 1 1 1 1 1 1 1 1 1 1 1 1 1 1 1 1 1 1 1 1 1 1 1 1 1 1 1 1 1 1 1 1 1 1 1 1 1 1 1 1 1 1 1 1 1 1 1 1 1 1 1 1 1 1 1 1 1 1 1 1 1 1 1 1 1 1 1 1 1 1 1 1 1 1 1 1 1 1 1 1 1 1 1 1 1 1 1 1 1\n"
          ],
          "name": "stdout"
        },
        {
          "output_type": "stream",
          "text": [
            "I0416 04:21:27.928194 140601142413184 run_classifier.py:466] input_mask: 1 1 1 1 1 1 1 1 1 1 1 1 1 1 1 1 1 1 1 1 1 1 1 1 1 1 1 1 1 1 1 1 1 1 1 1 1 1 1 1 1 1 1 1 1 1 1 1 1 1 1 1 1 1 1 1 1 1 1 1 1 1 1 1 1 1 1 1 1 1 1 1 1 1 1 1 1 1 1 1 1 1 1 1 1 1 1 1 1 1 1 1 1 1 1 1 1 1 1 1 1 1 1 1 1 1 1 1 1 1 1 1 1 1 1 1 1 1 1 1 1 1 1 1 1 1 1 1\n"
          ],
          "name": "stderr"
        },
        {
          "output_type": "stream",
          "text": [
            "INFO:tensorflow:segment_ids: 0 0 0 0 0 0 0 0 0 0 0 0 0 0 0 0 0 0 0 0 0 0 0 0 0 0 0 0 0 0 0 0 0 0 0 0 0 0 0 0 0 0 0 0 0 0 0 0 0 0 0 0 0 0 0 0 0 0 0 0 0 0 0 0 0 0 0 0 0 0 0 0 0 0 0 0 0 0 0 0 0 0 0 0 0 0 0 0 0 0 0 0 0 0 0 0 0 0 0 0 0 0 0 0 0 0 0 0 0 0 0 0 0 0 0 0 0 0 0 0 0 0 0 0 0 0 0 0\n"
          ],
          "name": "stdout"
        },
        {
          "output_type": "stream",
          "text": [
            "I0416 04:21:27.931110 140601142413184 run_classifier.py:467] segment_ids: 0 0 0 0 0 0 0 0 0 0 0 0 0 0 0 0 0 0 0 0 0 0 0 0 0 0 0 0 0 0 0 0 0 0 0 0 0 0 0 0 0 0 0 0 0 0 0 0 0 0 0 0 0 0 0 0 0 0 0 0 0 0 0 0 0 0 0 0 0 0 0 0 0 0 0 0 0 0 0 0 0 0 0 0 0 0 0 0 0 0 0 0 0 0 0 0 0 0 0 0 0 0 0 0 0 0 0 0 0 0 0 0 0 0 0 0 0 0 0 0 0 0 0 0 0 0 0 0\n"
          ],
          "name": "stderr"
        },
        {
          "output_type": "stream",
          "text": [
            "INFO:tensorflow:label: 1 (id = 1)\n"
          ],
          "name": "stdout"
        },
        {
          "output_type": "stream",
          "text": [
            "I0416 04:21:27.933091 140601142413184 run_classifier.py:468] label: 1 (id = 1)\n"
          ],
          "name": "stderr"
        },
        {
          "output_type": "stream",
          "text": [
            "INFO:tensorflow:*** Example ***\n"
          ],
          "name": "stdout"
        },
        {
          "output_type": "stream",
          "text": [
            "I0416 04:21:27.941792 140601142413184 run_classifier.py:461] *** Example ***\n"
          ],
          "name": "stderr"
        },
        {
          "output_type": "stream",
          "text": [
            "INFO:tensorflow:guid: None\n"
          ],
          "name": "stdout"
        },
        {
          "output_type": "stream",
          "text": [
            "I0416 04:21:27.943654 140601142413184 run_classifier.py:462] guid: None\n"
          ],
          "name": "stderr"
        },
        {
          "output_type": "stream",
          "text": [
            "INFO:tensorflow:tokens: [CLS] this is a family film , which to some people is an automatic turn off . it seems that too many people do not want to see films that are not loaded down with failing arms and legs , gr ##at ##uit ##ous violence and enough ex ##ple ##tive ##s to fill the new york phone book . this film is none of those . it is cl ##iche , it is formula , but it is also fun . it doesn ' t ask you to think , it doesn ' t demand that you accept the film as reality . it simply does what a good film ought to do , which is to willingly suspend disbelief for two hours and enjoy the adventure [SEP]\n"
          ],
          "name": "stdout"
        },
        {
          "output_type": "stream",
          "text": [
            "I0416 04:21:27.945654 140601142413184 run_classifier.py:464] tokens: [CLS] this is a family film , which to some people is an automatic turn off . it seems that too many people do not want to see films that are not loaded down with failing arms and legs , gr ##at ##uit ##ous violence and enough ex ##ple ##tive ##s to fill the new york phone book . this film is none of those . it is cl ##iche , it is formula , but it is also fun . it doesn ' t ask you to think , it doesn ' t demand that you accept the film as reality . it simply does what a good film ought to do , which is to willingly suspend disbelief for two hours and enjoy the adventure [SEP]\n"
          ],
          "name": "stderr"
        },
        {
          "output_type": "stream",
          "text": [
            "INFO:tensorflow:input_ids: 101 2023 2003 1037 2155 2143 1010 2029 2000 2070 2111 2003 2019 6882 2735 2125 1012 2009 3849 2008 2205 2116 2111 2079 2025 2215 2000 2156 3152 2008 2024 2025 8209 2091 2007 7989 2608 1998 3456 1010 24665 4017 14663 3560 4808 1998 2438 4654 10814 6024 2015 2000 6039 1996 2047 2259 3042 2338 1012 2023 2143 2003 3904 1997 2216 1012 2009 2003 18856 17322 1010 2009 2003 5675 1010 2021 2009 2003 2036 4569 1012 2009 2987 1005 1056 3198 2017 2000 2228 1010 2009 2987 1005 1056 5157 2008 2017 5138 1996 2143 2004 4507 1012 2009 3432 2515 2054 1037 2204 2143 11276 2000 2079 1010 2029 2003 2000 18110 28324 12537 2005 2048 2847 1998 5959 1996 6172 102\n"
          ],
          "name": "stdout"
        },
        {
          "output_type": "stream",
          "text": [
            "I0416 04:21:27.947568 140601142413184 run_classifier.py:465] input_ids: 101 2023 2003 1037 2155 2143 1010 2029 2000 2070 2111 2003 2019 6882 2735 2125 1012 2009 3849 2008 2205 2116 2111 2079 2025 2215 2000 2156 3152 2008 2024 2025 8209 2091 2007 7989 2608 1998 3456 1010 24665 4017 14663 3560 4808 1998 2438 4654 10814 6024 2015 2000 6039 1996 2047 2259 3042 2338 1012 2023 2143 2003 3904 1997 2216 1012 2009 2003 18856 17322 1010 2009 2003 5675 1010 2021 2009 2003 2036 4569 1012 2009 2987 1005 1056 3198 2017 2000 2228 1010 2009 2987 1005 1056 5157 2008 2017 5138 1996 2143 2004 4507 1012 2009 3432 2515 2054 1037 2204 2143 11276 2000 2079 1010 2029 2003 2000 18110 28324 12537 2005 2048 2847 1998 5959 1996 6172 102\n"
          ],
          "name": "stderr"
        },
        {
          "output_type": "stream",
          "text": [
            "INFO:tensorflow:input_mask: 1 1 1 1 1 1 1 1 1 1 1 1 1 1 1 1 1 1 1 1 1 1 1 1 1 1 1 1 1 1 1 1 1 1 1 1 1 1 1 1 1 1 1 1 1 1 1 1 1 1 1 1 1 1 1 1 1 1 1 1 1 1 1 1 1 1 1 1 1 1 1 1 1 1 1 1 1 1 1 1 1 1 1 1 1 1 1 1 1 1 1 1 1 1 1 1 1 1 1 1 1 1 1 1 1 1 1 1 1 1 1 1 1 1 1 1 1 1 1 1 1 1 1 1 1 1 1 1\n"
          ],
          "name": "stdout"
        },
        {
          "output_type": "stream",
          "text": [
            "I0416 04:21:27.949724 140601142413184 run_classifier.py:466] input_mask: 1 1 1 1 1 1 1 1 1 1 1 1 1 1 1 1 1 1 1 1 1 1 1 1 1 1 1 1 1 1 1 1 1 1 1 1 1 1 1 1 1 1 1 1 1 1 1 1 1 1 1 1 1 1 1 1 1 1 1 1 1 1 1 1 1 1 1 1 1 1 1 1 1 1 1 1 1 1 1 1 1 1 1 1 1 1 1 1 1 1 1 1 1 1 1 1 1 1 1 1 1 1 1 1 1 1 1 1 1 1 1 1 1 1 1 1 1 1 1 1 1 1 1 1 1 1 1 1\n"
          ],
          "name": "stderr"
        },
        {
          "output_type": "stream",
          "text": [
            "INFO:tensorflow:segment_ids: 0 0 0 0 0 0 0 0 0 0 0 0 0 0 0 0 0 0 0 0 0 0 0 0 0 0 0 0 0 0 0 0 0 0 0 0 0 0 0 0 0 0 0 0 0 0 0 0 0 0 0 0 0 0 0 0 0 0 0 0 0 0 0 0 0 0 0 0 0 0 0 0 0 0 0 0 0 0 0 0 0 0 0 0 0 0 0 0 0 0 0 0 0 0 0 0 0 0 0 0 0 0 0 0 0 0 0 0 0 0 0 0 0 0 0 0 0 0 0 0 0 0 0 0 0 0 0 0\n"
          ],
          "name": "stdout"
        },
        {
          "output_type": "stream",
          "text": [
            "I0416 04:21:27.951484 140601142413184 run_classifier.py:467] segment_ids: 0 0 0 0 0 0 0 0 0 0 0 0 0 0 0 0 0 0 0 0 0 0 0 0 0 0 0 0 0 0 0 0 0 0 0 0 0 0 0 0 0 0 0 0 0 0 0 0 0 0 0 0 0 0 0 0 0 0 0 0 0 0 0 0 0 0 0 0 0 0 0 0 0 0 0 0 0 0 0 0 0 0 0 0 0 0 0 0 0 0 0 0 0 0 0 0 0 0 0 0 0 0 0 0 0 0 0 0 0 0 0 0 0 0 0 0 0 0 0 0 0 0 0 0 0 0 0 0\n"
          ],
          "name": "stderr"
        },
        {
          "output_type": "stream",
          "text": [
            "INFO:tensorflow:label: 1 (id = 1)\n"
          ],
          "name": "stdout"
        },
        {
          "output_type": "stream",
          "text": [
            "I0416 04:21:27.953226 140601142413184 run_classifier.py:468] label: 1 (id = 1)\n"
          ],
          "name": "stderr"
        },
        {
          "output_type": "stream",
          "text": [
            "INFO:tensorflow:*** Example ***\n"
          ],
          "name": "stdout"
        },
        {
          "output_type": "stream",
          "text": [
            "I0416 04:21:27.963921 140601142413184 run_classifier.py:461] *** Example ***\n"
          ],
          "name": "stderr"
        },
        {
          "output_type": "stream",
          "text": [
            "INFO:tensorflow:guid: None\n"
          ],
          "name": "stdout"
        },
        {
          "output_type": "stream",
          "text": [
            "I0416 04:21:27.965956 140601142413184 run_classifier.py:462] guid: None\n"
          ],
          "name": "stderr"
        },
        {
          "output_type": "stream",
          "text": [
            "INFO:tensorflow:tokens: [CLS] i first discovered alexander ko ##rda ' s ( 1940 ) fantasy , the thief of bag ##dad in the early 1950 ' s on a re - issue billed as \" the wonder show of the century ! \" both ko ##rda tech ##nic ##olo ##r films , the thief of bag ##dad and jungle book were shown on one never to be forgotten program . the music of mi ##k ##los ro ##z ##sa enhanced both films . the tech ##nic ##olo ##r in each was incredibly beautiful ! the thief of bag ##dad has remained on my list as the best fantasy film ever made . as the years passed , it became more difficult to enjoy the film ' s color in [SEP]\n"
          ],
          "name": "stdout"
        },
        {
          "output_type": "stream",
          "text": [
            "I0416 04:21:27.967991 140601142413184 run_classifier.py:464] tokens: [CLS] i first discovered alexander ko ##rda ' s ( 1940 ) fantasy , the thief of bag ##dad in the early 1950 ' s on a re - issue billed as \" the wonder show of the century ! \" both ko ##rda tech ##nic ##olo ##r films , the thief of bag ##dad and jungle book were shown on one never to be forgotten program . the music of mi ##k ##los ro ##z ##sa enhanced both films . the tech ##nic ##olo ##r in each was incredibly beautiful ! the thief of bag ##dad has remained on my list as the best fantasy film ever made . as the years passed , it became more difficult to enjoy the film ' s color in [SEP]\n"
          ],
          "name": "stderr"
        },
        {
          "output_type": "stream",
          "text": [
            "INFO:tensorflow:input_ids: 101 1045 2034 3603 3656 12849 13639 1005 1055 1006 3878 1007 5913 1010 1996 12383 1997 4524 14697 1999 1996 2220 3925 1005 1055 2006 1037 2128 1011 3277 14843 2004 1000 1996 4687 2265 1997 1996 2301 999 1000 2119 12849 13639 6627 8713 12898 2099 3152 1010 1996 12383 1997 4524 14697 1998 8894 2338 2020 3491 2006 2028 2196 2000 2022 6404 2565 1012 1996 2189 1997 2771 2243 10483 20996 2480 3736 9412 2119 3152 1012 1996 6627 8713 12898 2099 1999 2169 2001 11757 3376 999 1996 12383 1997 4524 14697 2038 2815 2006 2026 2862 2004 1996 2190 5913 2143 2412 2081 1012 2004 1996 2086 2979 1010 2009 2150 2062 3697 2000 5959 1996 2143 1005 1055 3609 1999 102\n"
          ],
          "name": "stdout"
        },
        {
          "output_type": "stream",
          "text": [
            "I0416 04:21:27.970089 140601142413184 run_classifier.py:465] input_ids: 101 1045 2034 3603 3656 12849 13639 1005 1055 1006 3878 1007 5913 1010 1996 12383 1997 4524 14697 1999 1996 2220 3925 1005 1055 2006 1037 2128 1011 3277 14843 2004 1000 1996 4687 2265 1997 1996 2301 999 1000 2119 12849 13639 6627 8713 12898 2099 3152 1010 1996 12383 1997 4524 14697 1998 8894 2338 2020 3491 2006 2028 2196 2000 2022 6404 2565 1012 1996 2189 1997 2771 2243 10483 20996 2480 3736 9412 2119 3152 1012 1996 6627 8713 12898 2099 1999 2169 2001 11757 3376 999 1996 12383 1997 4524 14697 2038 2815 2006 2026 2862 2004 1996 2190 5913 2143 2412 2081 1012 2004 1996 2086 2979 1010 2009 2150 2062 3697 2000 5959 1996 2143 1005 1055 3609 1999 102\n"
          ],
          "name": "stderr"
        },
        {
          "output_type": "stream",
          "text": [
            "INFO:tensorflow:input_mask: 1 1 1 1 1 1 1 1 1 1 1 1 1 1 1 1 1 1 1 1 1 1 1 1 1 1 1 1 1 1 1 1 1 1 1 1 1 1 1 1 1 1 1 1 1 1 1 1 1 1 1 1 1 1 1 1 1 1 1 1 1 1 1 1 1 1 1 1 1 1 1 1 1 1 1 1 1 1 1 1 1 1 1 1 1 1 1 1 1 1 1 1 1 1 1 1 1 1 1 1 1 1 1 1 1 1 1 1 1 1 1 1 1 1 1 1 1 1 1 1 1 1 1 1 1 1 1 1\n"
          ],
          "name": "stdout"
        },
        {
          "output_type": "stream",
          "text": [
            "I0416 04:21:27.972179 140601142413184 run_classifier.py:466] input_mask: 1 1 1 1 1 1 1 1 1 1 1 1 1 1 1 1 1 1 1 1 1 1 1 1 1 1 1 1 1 1 1 1 1 1 1 1 1 1 1 1 1 1 1 1 1 1 1 1 1 1 1 1 1 1 1 1 1 1 1 1 1 1 1 1 1 1 1 1 1 1 1 1 1 1 1 1 1 1 1 1 1 1 1 1 1 1 1 1 1 1 1 1 1 1 1 1 1 1 1 1 1 1 1 1 1 1 1 1 1 1 1 1 1 1 1 1 1 1 1 1 1 1 1 1 1 1 1 1\n"
          ],
          "name": "stderr"
        },
        {
          "output_type": "stream",
          "text": [
            "INFO:tensorflow:segment_ids: 0 0 0 0 0 0 0 0 0 0 0 0 0 0 0 0 0 0 0 0 0 0 0 0 0 0 0 0 0 0 0 0 0 0 0 0 0 0 0 0 0 0 0 0 0 0 0 0 0 0 0 0 0 0 0 0 0 0 0 0 0 0 0 0 0 0 0 0 0 0 0 0 0 0 0 0 0 0 0 0 0 0 0 0 0 0 0 0 0 0 0 0 0 0 0 0 0 0 0 0 0 0 0 0 0 0 0 0 0 0 0 0 0 0 0 0 0 0 0 0 0 0 0 0 0 0 0 0\n"
          ],
          "name": "stdout"
        },
        {
          "output_type": "stream",
          "text": [
            "I0416 04:21:27.974005 140601142413184 run_classifier.py:467] segment_ids: 0 0 0 0 0 0 0 0 0 0 0 0 0 0 0 0 0 0 0 0 0 0 0 0 0 0 0 0 0 0 0 0 0 0 0 0 0 0 0 0 0 0 0 0 0 0 0 0 0 0 0 0 0 0 0 0 0 0 0 0 0 0 0 0 0 0 0 0 0 0 0 0 0 0 0 0 0 0 0 0 0 0 0 0 0 0 0 0 0 0 0 0 0 0 0 0 0 0 0 0 0 0 0 0 0 0 0 0 0 0 0 0 0 0 0 0 0 0 0 0 0 0 0 0 0 0 0 0\n"
          ],
          "name": "stderr"
        },
        {
          "output_type": "stream",
          "text": [
            "INFO:tensorflow:label: 1 (id = 1)\n"
          ],
          "name": "stdout"
        },
        {
          "output_type": "stream",
          "text": [
            "I0416 04:21:27.975897 140601142413184 run_classifier.py:468] label: 1 (id = 1)\n"
          ],
          "name": "stderr"
        },
        {
          "output_type": "stream",
          "text": [
            "INFO:tensorflow:*** Example ***\n"
          ],
          "name": "stdout"
        },
        {
          "output_type": "stream",
          "text": [
            "I0416 04:21:27.983042 140601142413184 run_classifier.py:461] *** Example ***\n"
          ],
          "name": "stderr"
        },
        {
          "output_type": "stream",
          "text": [
            "INFO:tensorflow:guid: None\n"
          ],
          "name": "stdout"
        },
        {
          "output_type": "stream",
          "text": [
            "I0416 04:21:27.985085 140601142413184 run_classifier.py:462] guid: None\n"
          ],
          "name": "stderr"
        },
        {
          "output_type": "stream",
          "text": [
            "INFO:tensorflow:tokens: [CLS] a young woman who is a successful model , and is also engaged to be married , and who has twice attempted suicide in the past , is chosen by a secretive and distant association of catholic priests to be the next \" sentinel \" to the gateway to hell , which apparently goes through a creepy old , but well maintained brooklyn apartment building . its tenants take the stairway up and can rein ##car ##nate themselves , but apparently can ' t escape as long as a sentinel is there to block the way . the previous one ( john carr ##adi ##ne ) is about dead , so she , by fate or whatever , becomes the next one , and the doomed [SEP]\n"
          ],
          "name": "stdout"
        },
        {
          "output_type": "stream",
          "text": [
            "I0416 04:21:27.986871 140601142413184 run_classifier.py:464] tokens: [CLS] a young woman who is a successful model , and is also engaged to be married , and who has twice attempted suicide in the past , is chosen by a secretive and distant association of catholic priests to be the next \" sentinel \" to the gateway to hell , which apparently goes through a creepy old , but well maintained brooklyn apartment building . its tenants take the stairway up and can rein ##car ##nate themselves , but apparently can ' t escape as long as a sentinel is there to block the way . the previous one ( john carr ##adi ##ne ) is about dead , so she , by fate or whatever , becomes the next one , and the doomed [SEP]\n"
          ],
          "name": "stderr"
        },
        {
          "output_type": "stream",
          "text": [
            "INFO:tensorflow:input_ids: 101 1037 2402 2450 2040 2003 1037 3144 2944 1010 1998 2003 2036 5117 2000 2022 2496 1010 1998 2040 2038 3807 4692 5920 1999 1996 2627 1010 2003 4217 2011 1037 28607 1998 6802 2523 1997 3234 8656 2000 2022 1996 2279 1000 16074 1000 2000 1996 11909 2000 3109 1010 2029 4593 3632 2083 1037 17109 2214 1010 2021 2092 5224 6613 4545 2311 1012 2049 14665 2202 1996 21952 2039 1998 2064 27788 10010 12556 3209 1010 2021 4593 2064 1005 1056 4019 2004 2146 2004 1037 16074 2003 2045 2000 3796 1996 2126 1012 1996 3025 2028 1006 2198 12385 17190 2638 1007 2003 2055 2757 1010 2061 2016 1010 2011 6580 2030 3649 1010 4150 1996 2279 2028 1010 1998 1996 20076 102\n"
          ],
          "name": "stdout"
        },
        {
          "output_type": "stream",
          "text": [
            "I0416 04:21:27.988883 140601142413184 run_classifier.py:465] input_ids: 101 1037 2402 2450 2040 2003 1037 3144 2944 1010 1998 2003 2036 5117 2000 2022 2496 1010 1998 2040 2038 3807 4692 5920 1999 1996 2627 1010 2003 4217 2011 1037 28607 1998 6802 2523 1997 3234 8656 2000 2022 1996 2279 1000 16074 1000 2000 1996 11909 2000 3109 1010 2029 4593 3632 2083 1037 17109 2214 1010 2021 2092 5224 6613 4545 2311 1012 2049 14665 2202 1996 21952 2039 1998 2064 27788 10010 12556 3209 1010 2021 4593 2064 1005 1056 4019 2004 2146 2004 1037 16074 2003 2045 2000 3796 1996 2126 1012 1996 3025 2028 1006 2198 12385 17190 2638 1007 2003 2055 2757 1010 2061 2016 1010 2011 6580 2030 3649 1010 4150 1996 2279 2028 1010 1998 1996 20076 102\n"
          ],
          "name": "stderr"
        },
        {
          "output_type": "stream",
          "text": [
            "INFO:tensorflow:input_mask: 1 1 1 1 1 1 1 1 1 1 1 1 1 1 1 1 1 1 1 1 1 1 1 1 1 1 1 1 1 1 1 1 1 1 1 1 1 1 1 1 1 1 1 1 1 1 1 1 1 1 1 1 1 1 1 1 1 1 1 1 1 1 1 1 1 1 1 1 1 1 1 1 1 1 1 1 1 1 1 1 1 1 1 1 1 1 1 1 1 1 1 1 1 1 1 1 1 1 1 1 1 1 1 1 1 1 1 1 1 1 1 1 1 1 1 1 1 1 1 1 1 1 1 1 1 1 1 1\n"
          ],
          "name": "stdout"
        },
        {
          "output_type": "stream",
          "text": [
            "I0416 04:21:27.990784 140601142413184 run_classifier.py:466] input_mask: 1 1 1 1 1 1 1 1 1 1 1 1 1 1 1 1 1 1 1 1 1 1 1 1 1 1 1 1 1 1 1 1 1 1 1 1 1 1 1 1 1 1 1 1 1 1 1 1 1 1 1 1 1 1 1 1 1 1 1 1 1 1 1 1 1 1 1 1 1 1 1 1 1 1 1 1 1 1 1 1 1 1 1 1 1 1 1 1 1 1 1 1 1 1 1 1 1 1 1 1 1 1 1 1 1 1 1 1 1 1 1 1 1 1 1 1 1 1 1 1 1 1 1 1 1 1 1 1\n"
          ],
          "name": "stderr"
        },
        {
          "output_type": "stream",
          "text": [
            "INFO:tensorflow:segment_ids: 0 0 0 0 0 0 0 0 0 0 0 0 0 0 0 0 0 0 0 0 0 0 0 0 0 0 0 0 0 0 0 0 0 0 0 0 0 0 0 0 0 0 0 0 0 0 0 0 0 0 0 0 0 0 0 0 0 0 0 0 0 0 0 0 0 0 0 0 0 0 0 0 0 0 0 0 0 0 0 0 0 0 0 0 0 0 0 0 0 0 0 0 0 0 0 0 0 0 0 0 0 0 0 0 0 0 0 0 0 0 0 0 0 0 0 0 0 0 0 0 0 0 0 0 0 0 0 0\n"
          ],
          "name": "stdout"
        },
        {
          "output_type": "stream",
          "text": [
            "I0416 04:21:27.992697 140601142413184 run_classifier.py:467] segment_ids: 0 0 0 0 0 0 0 0 0 0 0 0 0 0 0 0 0 0 0 0 0 0 0 0 0 0 0 0 0 0 0 0 0 0 0 0 0 0 0 0 0 0 0 0 0 0 0 0 0 0 0 0 0 0 0 0 0 0 0 0 0 0 0 0 0 0 0 0 0 0 0 0 0 0 0 0 0 0 0 0 0 0 0 0 0 0 0 0 0 0 0 0 0 0 0 0 0 0 0 0 0 0 0 0 0 0 0 0 0 0 0 0 0 0 0 0 0 0 0 0 0 0 0 0 0 0 0 0\n"
          ],
          "name": "stderr"
        },
        {
          "output_type": "stream",
          "text": [
            "INFO:tensorflow:label: 1 (id = 1)\n"
          ],
          "name": "stdout"
        },
        {
          "output_type": "stream",
          "text": [
            "I0416 04:21:27.994647 140601142413184 run_classifier.py:468] label: 1 (id = 1)\n"
          ],
          "name": "stderr"
        },
        {
          "output_type": "stream",
          "text": [
            "INFO:tensorflow:Writing example 10000 of 25000\n"
          ],
          "name": "stdout"
        },
        {
          "output_type": "stream",
          "text": [
            "I0416 04:22:14.438701 140601142413184 run_classifier.py:774] Writing example 10000 of 25000\n"
          ],
          "name": "stderr"
        },
        {
          "output_type": "stream",
          "text": [
            "INFO:tensorflow:Writing example 20000 of 25000\n"
          ],
          "name": "stdout"
        },
        {
          "output_type": "stream",
          "text": [
            "I0416 04:23:02.928435 140601142413184 run_classifier.py:774] Writing example 20000 of 25000\n"
          ],
          "name": "stderr"
        },
        {
          "output_type": "stream",
          "text": [
            "INFO:tensorflow:Writing example 0 of 25000\n"
          ],
          "name": "stdout"
        },
        {
          "output_type": "stream",
          "text": [
            "I0416 04:23:27.010203 140601142413184 run_classifier.py:774] Writing example 0 of 25000\n"
          ],
          "name": "stderr"
        },
        {
          "output_type": "stream",
          "text": [
            "INFO:tensorflow:*** Example ***\n"
          ],
          "name": "stdout"
        },
        {
          "output_type": "stream",
          "text": [
            "I0416 04:23:27.018293 140601142413184 run_classifier.py:461] *** Example ***\n"
          ],
          "name": "stderr"
        },
        {
          "output_type": "stream",
          "text": [
            "INFO:tensorflow:guid: None\n"
          ],
          "name": "stdout"
        },
        {
          "output_type": "stream",
          "text": [
            "I0416 04:23:27.020361 140601142413184 run_classifier.py:462] guid: None\n"
          ],
          "name": "stderr"
        },
        {
          "output_type": "stream",
          "text": [
            "INFO:tensorflow:tokens: [CLS] based on an actual story , john boo ##rman shows the struggle of an american doctor , whose husband and son were murdered and she was continually plagued with her loss . a holiday to burma with her sister seemed like a good idea to get away from it all , but when her passport was stolen in rang ##oon , she could not leave the country with her sister , and was forced to stay back until she could get i . d . papers from the american embassy . to fill in a day before she could fly out , she took a trip into the countryside with a tour guide . \" i tried finding something in those stone statues , but nothing [SEP]\n"
          ],
          "name": "stdout"
        },
        {
          "output_type": "stream",
          "text": [
            "I0416 04:23:27.022731 140601142413184 run_classifier.py:464] tokens: [CLS] based on an actual story , john boo ##rman shows the struggle of an american doctor , whose husband and son were murdered and she was continually plagued with her loss . a holiday to burma with her sister seemed like a good idea to get away from it all , but when her passport was stolen in rang ##oon , she could not leave the country with her sister , and was forced to stay back until she could get i . d . papers from the american embassy . to fill in a day before she could fly out , she took a trip into the countryside with a tour guide . \" i tried finding something in those stone statues , but nothing [SEP]\n"
          ],
          "name": "stderr"
        },
        {
          "output_type": "stream",
          "text": [
            "INFO:tensorflow:input_ids: 101 2241 2006 2019 5025 2466 1010 2198 22017 14515 3065 1996 5998 1997 2019 2137 3460 1010 3005 3129 1998 2365 2020 7129 1998 2016 2001 14678 17808 2007 2014 3279 1012 1037 6209 2000 11050 2007 2014 2905 2790 2066 1037 2204 2801 2000 2131 2185 2013 2009 2035 1010 2021 2043 2014 12293 2001 7376 1999 8369 7828 1010 2016 2071 2025 2681 1996 2406 2007 2014 2905 1010 1998 2001 3140 2000 2994 2067 2127 2016 2071 2131 1045 1012 1040 1012 4981 2013 1996 2137 8408 1012 2000 6039 1999 1037 2154 2077 2016 2071 4875 2041 1010 2016 2165 1037 4440 2046 1996 10833 2007 1037 2778 5009 1012 1000 1045 2699 4531 2242 1999 2216 2962 11342 1010 2021 2498 102\n"
          ],
          "name": "stdout"
        },
        {
          "output_type": "stream",
          "text": [
            "I0416 04:23:27.025316 140601142413184 run_classifier.py:465] input_ids: 101 2241 2006 2019 5025 2466 1010 2198 22017 14515 3065 1996 5998 1997 2019 2137 3460 1010 3005 3129 1998 2365 2020 7129 1998 2016 2001 14678 17808 2007 2014 3279 1012 1037 6209 2000 11050 2007 2014 2905 2790 2066 1037 2204 2801 2000 2131 2185 2013 2009 2035 1010 2021 2043 2014 12293 2001 7376 1999 8369 7828 1010 2016 2071 2025 2681 1996 2406 2007 2014 2905 1010 1998 2001 3140 2000 2994 2067 2127 2016 2071 2131 1045 1012 1040 1012 4981 2013 1996 2137 8408 1012 2000 6039 1999 1037 2154 2077 2016 2071 4875 2041 1010 2016 2165 1037 4440 2046 1996 10833 2007 1037 2778 5009 1012 1000 1045 2699 4531 2242 1999 2216 2962 11342 1010 2021 2498 102\n"
          ],
          "name": "stderr"
        },
        {
          "output_type": "stream",
          "text": [
            "INFO:tensorflow:input_mask: 1 1 1 1 1 1 1 1 1 1 1 1 1 1 1 1 1 1 1 1 1 1 1 1 1 1 1 1 1 1 1 1 1 1 1 1 1 1 1 1 1 1 1 1 1 1 1 1 1 1 1 1 1 1 1 1 1 1 1 1 1 1 1 1 1 1 1 1 1 1 1 1 1 1 1 1 1 1 1 1 1 1 1 1 1 1 1 1 1 1 1 1 1 1 1 1 1 1 1 1 1 1 1 1 1 1 1 1 1 1 1 1 1 1 1 1 1 1 1 1 1 1 1 1 1 1 1 1\n"
          ],
          "name": "stdout"
        },
        {
          "output_type": "stream",
          "text": [
            "I0416 04:23:27.026908 140601142413184 run_classifier.py:466] input_mask: 1 1 1 1 1 1 1 1 1 1 1 1 1 1 1 1 1 1 1 1 1 1 1 1 1 1 1 1 1 1 1 1 1 1 1 1 1 1 1 1 1 1 1 1 1 1 1 1 1 1 1 1 1 1 1 1 1 1 1 1 1 1 1 1 1 1 1 1 1 1 1 1 1 1 1 1 1 1 1 1 1 1 1 1 1 1 1 1 1 1 1 1 1 1 1 1 1 1 1 1 1 1 1 1 1 1 1 1 1 1 1 1 1 1 1 1 1 1 1 1 1 1 1 1 1 1 1 1\n"
          ],
          "name": "stderr"
        },
        {
          "output_type": "stream",
          "text": [
            "INFO:tensorflow:segment_ids: 0 0 0 0 0 0 0 0 0 0 0 0 0 0 0 0 0 0 0 0 0 0 0 0 0 0 0 0 0 0 0 0 0 0 0 0 0 0 0 0 0 0 0 0 0 0 0 0 0 0 0 0 0 0 0 0 0 0 0 0 0 0 0 0 0 0 0 0 0 0 0 0 0 0 0 0 0 0 0 0 0 0 0 0 0 0 0 0 0 0 0 0 0 0 0 0 0 0 0 0 0 0 0 0 0 0 0 0 0 0 0 0 0 0 0 0 0 0 0 0 0 0 0 0 0 0 0 0\n"
          ],
          "name": "stdout"
        },
        {
          "output_type": "stream",
          "text": [
            "I0416 04:23:27.031008 140601142413184 run_classifier.py:467] segment_ids: 0 0 0 0 0 0 0 0 0 0 0 0 0 0 0 0 0 0 0 0 0 0 0 0 0 0 0 0 0 0 0 0 0 0 0 0 0 0 0 0 0 0 0 0 0 0 0 0 0 0 0 0 0 0 0 0 0 0 0 0 0 0 0 0 0 0 0 0 0 0 0 0 0 0 0 0 0 0 0 0 0 0 0 0 0 0 0 0 0 0 0 0 0 0 0 0 0 0 0 0 0 0 0 0 0 0 0 0 0 0 0 0 0 0 0 0 0 0 0 0 0 0 0 0 0 0 0 0\n"
          ],
          "name": "stderr"
        },
        {
          "output_type": "stream",
          "text": [
            "INFO:tensorflow:label: 1 (id = 1)\n"
          ],
          "name": "stdout"
        },
        {
          "output_type": "stream",
          "text": [
            "I0416 04:23:27.035410 140601142413184 run_classifier.py:468] label: 1 (id = 1)\n"
          ],
          "name": "stderr"
        },
        {
          "output_type": "stream",
          "text": [
            "INFO:tensorflow:*** Example ***\n"
          ],
          "name": "stdout"
        },
        {
          "output_type": "stream",
          "text": [
            "I0416 04:23:27.048331 140601142413184 run_classifier.py:461] *** Example ***\n"
          ],
          "name": "stderr"
        },
        {
          "output_type": "stream",
          "text": [
            "INFO:tensorflow:guid: None\n"
          ],
          "name": "stdout"
        },
        {
          "output_type": "stream",
          "text": [
            "I0416 04:23:27.050425 140601142413184 run_classifier.py:462] guid: None\n"
          ],
          "name": "stderr"
        },
        {
          "output_type": "stream",
          "text": [
            "INFO:tensorflow:tokens: [CLS] this is a gem . as a film four production - the anticipated quality was indeed delivered . shot with great style that reminded me some er ##rol morris films , well arranged and simply gripping . it ' s long yet ho ##rri ##fying to the point it ' s ex ##cr ##uc ##iating . we know something bad happened ( one can guess by the lack of participation of a person in the interviews ) but we are compelled to see it , a bit like a car accident in slow motion . the story spans most con ##ce ##iva ##ble aspects and unlike some documentaries did not try and refrain from showing the grimm ##er sides of the stories , as also dealing [SEP]\n"
          ],
          "name": "stdout"
        },
        {
          "output_type": "stream",
          "text": [
            "I0416 04:23:27.055754 140601142413184 run_classifier.py:464] tokens: [CLS] this is a gem . as a film four production - the anticipated quality was indeed delivered . shot with great style that reminded me some er ##rol morris films , well arranged and simply gripping . it ' s long yet ho ##rri ##fying to the point it ' s ex ##cr ##uc ##iating . we know something bad happened ( one can guess by the lack of participation of a person in the interviews ) but we are compelled to see it , a bit like a car accident in slow motion . the story spans most con ##ce ##iva ##ble aspects and unlike some documentaries did not try and refrain from showing the grimm ##er sides of the stories , as also dealing [SEP]\n"
          ],
          "name": "stderr"
        },
        {
          "output_type": "stream",
          "text": [
            "INFO:tensorflow:input_ids: 101 2023 2003 1037 17070 1012 2004 1037 2143 2176 2537 1011 1996 11436 3737 2001 5262 5359 1012 2915 2007 2307 2806 2008 6966 2033 2070 9413 13153 6384 3152 1010 2092 5412 1998 3432 13940 1012 2009 1005 1055 2146 2664 7570 18752 14116 2000 1996 2391 2009 1005 1055 4654 26775 14194 15370 1012 2057 2113 2242 2919 3047 1006 2028 2064 3984 2011 1996 3768 1997 6577 1997 1037 2711 1999 1996 7636 1007 2021 2057 2024 15055 2000 2156 2009 1010 1037 2978 2066 1037 2482 4926 1999 4030 4367 1012 1996 2466 14798 2087 9530 3401 11444 3468 5919 1998 4406 2070 15693 2106 2025 3046 1998 20703 2013 4760 1996 24287 2121 3903 1997 1996 3441 1010 2004 2036 7149 102\n"
          ],
          "name": "stdout"
        },
        {
          "output_type": "stream",
          "text": [
            "I0416 04:23:27.059404 140601142413184 run_classifier.py:465] input_ids: 101 2023 2003 1037 17070 1012 2004 1037 2143 2176 2537 1011 1996 11436 3737 2001 5262 5359 1012 2915 2007 2307 2806 2008 6966 2033 2070 9413 13153 6384 3152 1010 2092 5412 1998 3432 13940 1012 2009 1005 1055 2146 2664 7570 18752 14116 2000 1996 2391 2009 1005 1055 4654 26775 14194 15370 1012 2057 2113 2242 2919 3047 1006 2028 2064 3984 2011 1996 3768 1997 6577 1997 1037 2711 1999 1996 7636 1007 2021 2057 2024 15055 2000 2156 2009 1010 1037 2978 2066 1037 2482 4926 1999 4030 4367 1012 1996 2466 14798 2087 9530 3401 11444 3468 5919 1998 4406 2070 15693 2106 2025 3046 1998 20703 2013 4760 1996 24287 2121 3903 1997 1996 3441 1010 2004 2036 7149 102\n"
          ],
          "name": "stderr"
        },
        {
          "output_type": "stream",
          "text": [
            "INFO:tensorflow:input_mask: 1 1 1 1 1 1 1 1 1 1 1 1 1 1 1 1 1 1 1 1 1 1 1 1 1 1 1 1 1 1 1 1 1 1 1 1 1 1 1 1 1 1 1 1 1 1 1 1 1 1 1 1 1 1 1 1 1 1 1 1 1 1 1 1 1 1 1 1 1 1 1 1 1 1 1 1 1 1 1 1 1 1 1 1 1 1 1 1 1 1 1 1 1 1 1 1 1 1 1 1 1 1 1 1 1 1 1 1 1 1 1 1 1 1 1 1 1 1 1 1 1 1 1 1 1 1 1 1\n"
          ],
          "name": "stdout"
        },
        {
          "output_type": "stream",
          "text": [
            "I0416 04:23:27.061727 140601142413184 run_classifier.py:466] input_mask: 1 1 1 1 1 1 1 1 1 1 1 1 1 1 1 1 1 1 1 1 1 1 1 1 1 1 1 1 1 1 1 1 1 1 1 1 1 1 1 1 1 1 1 1 1 1 1 1 1 1 1 1 1 1 1 1 1 1 1 1 1 1 1 1 1 1 1 1 1 1 1 1 1 1 1 1 1 1 1 1 1 1 1 1 1 1 1 1 1 1 1 1 1 1 1 1 1 1 1 1 1 1 1 1 1 1 1 1 1 1 1 1 1 1 1 1 1 1 1 1 1 1 1 1 1 1 1 1\n"
          ],
          "name": "stderr"
        },
        {
          "output_type": "stream",
          "text": [
            "INFO:tensorflow:segment_ids: 0 0 0 0 0 0 0 0 0 0 0 0 0 0 0 0 0 0 0 0 0 0 0 0 0 0 0 0 0 0 0 0 0 0 0 0 0 0 0 0 0 0 0 0 0 0 0 0 0 0 0 0 0 0 0 0 0 0 0 0 0 0 0 0 0 0 0 0 0 0 0 0 0 0 0 0 0 0 0 0 0 0 0 0 0 0 0 0 0 0 0 0 0 0 0 0 0 0 0 0 0 0 0 0 0 0 0 0 0 0 0 0 0 0 0 0 0 0 0 0 0 0 0 0 0 0 0 0\n"
          ],
          "name": "stdout"
        },
        {
          "output_type": "stream",
          "text": [
            "I0416 04:23:27.064934 140601142413184 run_classifier.py:467] segment_ids: 0 0 0 0 0 0 0 0 0 0 0 0 0 0 0 0 0 0 0 0 0 0 0 0 0 0 0 0 0 0 0 0 0 0 0 0 0 0 0 0 0 0 0 0 0 0 0 0 0 0 0 0 0 0 0 0 0 0 0 0 0 0 0 0 0 0 0 0 0 0 0 0 0 0 0 0 0 0 0 0 0 0 0 0 0 0 0 0 0 0 0 0 0 0 0 0 0 0 0 0 0 0 0 0 0 0 0 0 0 0 0 0 0 0 0 0 0 0 0 0 0 0 0 0 0 0 0 0\n"
          ],
          "name": "stderr"
        },
        {
          "output_type": "stream",
          "text": [
            "INFO:tensorflow:label: 1 (id = 1)\n"
          ],
          "name": "stdout"
        },
        {
          "output_type": "stream",
          "text": [
            "I0416 04:23:27.068522 140601142413184 run_classifier.py:468] label: 1 (id = 1)\n"
          ],
          "name": "stderr"
        },
        {
          "output_type": "stream",
          "text": [
            "INFO:tensorflow:*** Example ***\n"
          ],
          "name": "stdout"
        },
        {
          "output_type": "stream",
          "text": [
            "I0416 04:23:27.076796 140601142413184 run_classifier.py:461] *** Example ***\n"
          ],
          "name": "stderr"
        },
        {
          "output_type": "stream",
          "text": [
            "INFO:tensorflow:guid: None\n"
          ],
          "name": "stdout"
        },
        {
          "output_type": "stream",
          "text": [
            "I0416 04:23:27.079115 140601142413184 run_classifier.py:462] guid: None\n"
          ],
          "name": "stderr"
        },
        {
          "output_type": "stream",
          "text": [
            "INFO:tensorflow:tokens: [CLS] i really like this show . it has drama , romance , and comedy all rolled into one . i am 28 and i am a married mother , so i can identify both with lore ##lei ' s and rory ' s experiences in the show . i have been watching mostly the repeats on the family channel lately , so i am not up - to - date on what is going on now . i think females would like this show more than males , but i know some men out there would enjoy it ! i really like that is an hour long and not a half hour , as th hour seems to fly by when i am watching it ! [SEP]\n"
          ],
          "name": "stdout"
        },
        {
          "output_type": "stream",
          "text": [
            "I0416 04:23:27.083094 140601142413184 run_classifier.py:464] tokens: [CLS] i really like this show . it has drama , romance , and comedy all rolled into one . i am 28 and i am a married mother , so i can identify both with lore ##lei ' s and rory ' s experiences in the show . i have been watching mostly the repeats on the family channel lately , so i am not up - to - date on what is going on now . i think females would like this show more than males , but i know some men out there would enjoy it ! i really like that is an hour long and not a half hour , as th hour seems to fly by when i am watching it ! [SEP]\n"
          ],
          "name": "stderr"
        },
        {
          "output_type": "stream",
          "text": [
            "INFO:tensorflow:input_ids: 101 1045 2428 2066 2023 2265 1012 2009 2038 3689 1010 7472 1010 1998 4038 2035 4565 2046 2028 1012 1045 2572 2654 1998 1045 2572 1037 2496 2388 1010 2061 1045 2064 6709 2119 2007 19544 23057 1005 1055 1998 14285 1005 1055 6322 1999 1996 2265 1012 1045 2031 2042 3666 3262 1996 17993 2006 1996 2155 3149 9906 1010 2061 1045 2572 2025 2039 1011 2000 1011 3058 2006 2054 2003 2183 2006 2085 1012 1045 2228 3801 2052 2066 2023 2265 2062 2084 3767 1010 2021 1045 2113 2070 2273 2041 2045 2052 5959 2009 999 1045 2428 2066 2008 2003 2019 3178 2146 1998 2025 1037 2431 3178 1010 2004 16215 3178 3849 2000 4875 2011 2043 1045 2572 3666 2009 999 102\n"
          ],
          "name": "stdout"
        },
        {
          "output_type": "stream",
          "text": [
            "I0416 04:23:27.085285 140601142413184 run_classifier.py:465] input_ids: 101 1045 2428 2066 2023 2265 1012 2009 2038 3689 1010 7472 1010 1998 4038 2035 4565 2046 2028 1012 1045 2572 2654 1998 1045 2572 1037 2496 2388 1010 2061 1045 2064 6709 2119 2007 19544 23057 1005 1055 1998 14285 1005 1055 6322 1999 1996 2265 1012 1045 2031 2042 3666 3262 1996 17993 2006 1996 2155 3149 9906 1010 2061 1045 2572 2025 2039 1011 2000 1011 3058 2006 2054 2003 2183 2006 2085 1012 1045 2228 3801 2052 2066 2023 2265 2062 2084 3767 1010 2021 1045 2113 2070 2273 2041 2045 2052 5959 2009 999 1045 2428 2066 2008 2003 2019 3178 2146 1998 2025 1037 2431 3178 1010 2004 16215 3178 3849 2000 4875 2011 2043 1045 2572 3666 2009 999 102\n"
          ],
          "name": "stderr"
        },
        {
          "output_type": "stream",
          "text": [
            "INFO:tensorflow:input_mask: 1 1 1 1 1 1 1 1 1 1 1 1 1 1 1 1 1 1 1 1 1 1 1 1 1 1 1 1 1 1 1 1 1 1 1 1 1 1 1 1 1 1 1 1 1 1 1 1 1 1 1 1 1 1 1 1 1 1 1 1 1 1 1 1 1 1 1 1 1 1 1 1 1 1 1 1 1 1 1 1 1 1 1 1 1 1 1 1 1 1 1 1 1 1 1 1 1 1 1 1 1 1 1 1 1 1 1 1 1 1 1 1 1 1 1 1 1 1 1 1 1 1 1 1 1 1 1 1\n"
          ],
          "name": "stdout"
        },
        {
          "output_type": "stream",
          "text": [
            "I0416 04:23:27.088323 140601142413184 run_classifier.py:466] input_mask: 1 1 1 1 1 1 1 1 1 1 1 1 1 1 1 1 1 1 1 1 1 1 1 1 1 1 1 1 1 1 1 1 1 1 1 1 1 1 1 1 1 1 1 1 1 1 1 1 1 1 1 1 1 1 1 1 1 1 1 1 1 1 1 1 1 1 1 1 1 1 1 1 1 1 1 1 1 1 1 1 1 1 1 1 1 1 1 1 1 1 1 1 1 1 1 1 1 1 1 1 1 1 1 1 1 1 1 1 1 1 1 1 1 1 1 1 1 1 1 1 1 1 1 1 1 1 1 1\n"
          ],
          "name": "stderr"
        },
        {
          "output_type": "stream",
          "text": [
            "INFO:tensorflow:segment_ids: 0 0 0 0 0 0 0 0 0 0 0 0 0 0 0 0 0 0 0 0 0 0 0 0 0 0 0 0 0 0 0 0 0 0 0 0 0 0 0 0 0 0 0 0 0 0 0 0 0 0 0 0 0 0 0 0 0 0 0 0 0 0 0 0 0 0 0 0 0 0 0 0 0 0 0 0 0 0 0 0 0 0 0 0 0 0 0 0 0 0 0 0 0 0 0 0 0 0 0 0 0 0 0 0 0 0 0 0 0 0 0 0 0 0 0 0 0 0 0 0 0 0 0 0 0 0 0 0\n"
          ],
          "name": "stdout"
        },
        {
          "output_type": "stream",
          "text": [
            "I0416 04:23:27.090407 140601142413184 run_classifier.py:467] segment_ids: 0 0 0 0 0 0 0 0 0 0 0 0 0 0 0 0 0 0 0 0 0 0 0 0 0 0 0 0 0 0 0 0 0 0 0 0 0 0 0 0 0 0 0 0 0 0 0 0 0 0 0 0 0 0 0 0 0 0 0 0 0 0 0 0 0 0 0 0 0 0 0 0 0 0 0 0 0 0 0 0 0 0 0 0 0 0 0 0 0 0 0 0 0 0 0 0 0 0 0 0 0 0 0 0 0 0 0 0 0 0 0 0 0 0 0 0 0 0 0 0 0 0 0 0 0 0 0 0\n"
          ],
          "name": "stderr"
        },
        {
          "output_type": "stream",
          "text": [
            "INFO:tensorflow:label: 1 (id = 1)\n"
          ],
          "name": "stdout"
        },
        {
          "output_type": "stream",
          "text": [
            "I0416 04:23:27.093357 140601142413184 run_classifier.py:468] label: 1 (id = 1)\n"
          ],
          "name": "stderr"
        },
        {
          "output_type": "stream",
          "text": [
            "INFO:tensorflow:*** Example ***\n"
          ],
          "name": "stdout"
        },
        {
          "output_type": "stream",
          "text": [
            "I0416 04:23:27.100185 140601142413184 run_classifier.py:461] *** Example ***\n"
          ],
          "name": "stderr"
        },
        {
          "output_type": "stream",
          "text": [
            "INFO:tensorflow:guid: None\n"
          ],
          "name": "stdout"
        },
        {
          "output_type": "stream",
          "text": [
            "I0416 04:23:27.102995 140601142413184 run_classifier.py:462] guid: None\n"
          ],
          "name": "stderr"
        },
        {
          "output_type": "stream",
          "text": [
            "INFO:tensorflow:tokens: [CLS] this is the best 3 - d experience disney has at their theme ##park ##s . this is certainly better than their original 1960 ' s acid - trip film that was in it ' s place , is leagues better than \" honey i sh ##run ##k the audience \" ( and far more fun ) , barely squeak ##s by the mu ##ppet ##vision 3 - d movie at disney - mgm and can even beat the original 3 - d \" movie experience \" captain e ##o . this film re ##li ##ves some of disney ' s greatest musical hits from ala ##ddin , the little mermaid , and others , and brought a smile to my face throughout the entire show [SEP]\n"
          ],
          "name": "stdout"
        },
        {
          "output_type": "stream",
          "text": [
            "I0416 04:23:27.105191 140601142413184 run_classifier.py:464] tokens: [CLS] this is the best 3 - d experience disney has at their theme ##park ##s . this is certainly better than their original 1960 ' s acid - trip film that was in it ' s place , is leagues better than \" honey i sh ##run ##k the audience \" ( and far more fun ) , barely squeak ##s by the mu ##ppet ##vision 3 - d movie at disney - mgm and can even beat the original 3 - d \" movie experience \" captain e ##o . this film re ##li ##ves some of disney ' s greatest musical hits from ala ##ddin , the little mermaid , and others , and brought a smile to my face throughout the entire show [SEP]\n"
          ],
          "name": "stderr"
        },
        {
          "output_type": "stream",
          "text": [
            "INFO:tensorflow:input_ids: 101 2023 2003 1996 2190 1017 1011 1040 3325 6373 2038 2012 2037 4323 14432 2015 1012 2023 2003 5121 2488 2084 2037 2434 3624 1005 1055 5648 1011 4440 2143 2008 2001 1999 2009 1005 1055 2173 1010 2003 8121 2488 2084 1000 6861 1045 14021 15532 2243 1996 4378 1000 1006 1998 2521 2062 4569 1007 1010 4510 29552 2015 2011 1996 14163 29519 17084 1017 1011 1040 3185 2012 6373 1011 15418 1998 2064 2130 3786 1996 2434 1017 1011 1040 1000 3185 3325 1000 2952 1041 2080 1012 2023 2143 2128 3669 6961 2070 1997 6373 1005 1055 4602 3315 4978 2013 21862 18277 1010 1996 2210 22322 1010 1998 2500 1010 1998 2716 1037 2868 2000 2026 2227 2802 1996 2972 2265 102\n"
          ],
          "name": "stdout"
        },
        {
          "output_type": "stream",
          "text": [
            "I0416 04:23:27.108454 140601142413184 run_classifier.py:465] input_ids: 101 2023 2003 1996 2190 1017 1011 1040 3325 6373 2038 2012 2037 4323 14432 2015 1012 2023 2003 5121 2488 2084 2037 2434 3624 1005 1055 5648 1011 4440 2143 2008 2001 1999 2009 1005 1055 2173 1010 2003 8121 2488 2084 1000 6861 1045 14021 15532 2243 1996 4378 1000 1006 1998 2521 2062 4569 1007 1010 4510 29552 2015 2011 1996 14163 29519 17084 1017 1011 1040 3185 2012 6373 1011 15418 1998 2064 2130 3786 1996 2434 1017 1011 1040 1000 3185 3325 1000 2952 1041 2080 1012 2023 2143 2128 3669 6961 2070 1997 6373 1005 1055 4602 3315 4978 2013 21862 18277 1010 1996 2210 22322 1010 1998 2500 1010 1998 2716 1037 2868 2000 2026 2227 2802 1996 2972 2265 102\n"
          ],
          "name": "stderr"
        },
        {
          "output_type": "stream",
          "text": [
            "INFO:tensorflow:input_mask: 1 1 1 1 1 1 1 1 1 1 1 1 1 1 1 1 1 1 1 1 1 1 1 1 1 1 1 1 1 1 1 1 1 1 1 1 1 1 1 1 1 1 1 1 1 1 1 1 1 1 1 1 1 1 1 1 1 1 1 1 1 1 1 1 1 1 1 1 1 1 1 1 1 1 1 1 1 1 1 1 1 1 1 1 1 1 1 1 1 1 1 1 1 1 1 1 1 1 1 1 1 1 1 1 1 1 1 1 1 1 1 1 1 1 1 1 1 1 1 1 1 1 1 1 1 1 1 1\n"
          ],
          "name": "stdout"
        },
        {
          "output_type": "stream",
          "text": [
            "I0416 04:23:27.111061 140601142413184 run_classifier.py:466] input_mask: 1 1 1 1 1 1 1 1 1 1 1 1 1 1 1 1 1 1 1 1 1 1 1 1 1 1 1 1 1 1 1 1 1 1 1 1 1 1 1 1 1 1 1 1 1 1 1 1 1 1 1 1 1 1 1 1 1 1 1 1 1 1 1 1 1 1 1 1 1 1 1 1 1 1 1 1 1 1 1 1 1 1 1 1 1 1 1 1 1 1 1 1 1 1 1 1 1 1 1 1 1 1 1 1 1 1 1 1 1 1 1 1 1 1 1 1 1 1 1 1 1 1 1 1 1 1 1 1\n"
          ],
          "name": "stderr"
        },
        {
          "output_type": "stream",
          "text": [
            "INFO:tensorflow:segment_ids: 0 0 0 0 0 0 0 0 0 0 0 0 0 0 0 0 0 0 0 0 0 0 0 0 0 0 0 0 0 0 0 0 0 0 0 0 0 0 0 0 0 0 0 0 0 0 0 0 0 0 0 0 0 0 0 0 0 0 0 0 0 0 0 0 0 0 0 0 0 0 0 0 0 0 0 0 0 0 0 0 0 0 0 0 0 0 0 0 0 0 0 0 0 0 0 0 0 0 0 0 0 0 0 0 0 0 0 0 0 0 0 0 0 0 0 0 0 0 0 0 0 0 0 0 0 0 0 0\n"
          ],
          "name": "stdout"
        },
        {
          "output_type": "stream",
          "text": [
            "I0416 04:23:27.113317 140601142413184 run_classifier.py:467] segment_ids: 0 0 0 0 0 0 0 0 0 0 0 0 0 0 0 0 0 0 0 0 0 0 0 0 0 0 0 0 0 0 0 0 0 0 0 0 0 0 0 0 0 0 0 0 0 0 0 0 0 0 0 0 0 0 0 0 0 0 0 0 0 0 0 0 0 0 0 0 0 0 0 0 0 0 0 0 0 0 0 0 0 0 0 0 0 0 0 0 0 0 0 0 0 0 0 0 0 0 0 0 0 0 0 0 0 0 0 0 0 0 0 0 0 0 0 0 0 0 0 0 0 0 0 0 0 0 0 0\n"
          ],
          "name": "stderr"
        },
        {
          "output_type": "stream",
          "text": [
            "INFO:tensorflow:label: 1 (id = 1)\n"
          ],
          "name": "stdout"
        },
        {
          "output_type": "stream",
          "text": [
            "I0416 04:23:27.116450 140601142413184 run_classifier.py:468] label: 1 (id = 1)\n"
          ],
          "name": "stderr"
        },
        {
          "output_type": "stream",
          "text": [
            "INFO:tensorflow:*** Example ***\n"
          ],
          "name": "stdout"
        },
        {
          "output_type": "stream",
          "text": [
            "I0416 04:23:27.125541 140601142413184 run_classifier.py:461] *** Example ***\n"
          ],
          "name": "stderr"
        },
        {
          "output_type": "stream",
          "text": [
            "INFO:tensorflow:guid: None\n"
          ],
          "name": "stdout"
        },
        {
          "output_type": "stream",
          "text": [
            "I0416 04:23:27.128934 140601142413184 run_classifier.py:462] guid: None\n"
          ],
          "name": "stderr"
        },
        {
          "output_type": "stream",
          "text": [
            "INFO:tensorflow:tokens: [CLS] of the korean movies i ' ve seen , only three had really stuck with me . the first is the excellent horror a tale of two sisters . the second and third - and now fourth too - have all been park chan woo ##k ' s movies , namely old ##boy , sympathy for lady vengeance ) , and now thirst . < br / > < br / > park kinda reminds me of quentin tara ##ntino with his ir ##re ##vere ##nce towards convention . all his movies are shocking , but not in a gr ##at ##uit ##ous sense . it ' s more like he shows us what we don ' t expect to see - typically situations that go [SEP]\n"
          ],
          "name": "stdout"
        },
        {
          "output_type": "stream",
          "text": [
            "I0416 04:23:27.130935 140601142413184 run_classifier.py:464] tokens: [CLS] of the korean movies i ' ve seen , only three had really stuck with me . the first is the excellent horror a tale of two sisters . the second and third - and now fourth too - have all been park chan woo ##k ' s movies , namely old ##boy , sympathy for lady vengeance ) , and now thirst . < br / > < br / > park kinda reminds me of quentin tara ##ntino with his ir ##re ##vere ##nce towards convention . all his movies are shocking , but not in a gr ##at ##uit ##ous sense . it ' s more like he shows us what we don ' t expect to see - typically situations that go [SEP]\n"
          ],
          "name": "stderr"
        },
        {
          "output_type": "stream",
          "text": [
            "INFO:tensorflow:input_ids: 101 1997 1996 4759 5691 1045 1005 2310 2464 1010 2069 2093 2018 2428 5881 2007 2033 1012 1996 2034 2003 1996 6581 5469 1037 6925 1997 2048 5208 1012 1996 2117 1998 2353 1011 1998 2085 2959 2205 1011 2031 2035 2042 2380 9212 15854 2243 1005 1055 5691 1010 8419 2214 11097 1010 11883 2005 3203 14096 1007 1010 1998 2085 21810 1012 1026 7987 1013 1028 1026 7987 1013 1028 2380 17704 15537 2033 1997 15969 10225 25318 2007 2010 20868 2890 28943 5897 2875 4680 1012 2035 2010 5691 2024 16880 1010 2021 2025 1999 1037 24665 4017 14663 3560 3168 1012 2009 1005 1055 2062 2066 2002 3065 2149 2054 2057 2123 1005 1056 5987 2000 2156 1011 4050 8146 2008 2175 102\n"
          ],
          "name": "stdout"
        },
        {
          "output_type": "stream",
          "text": [
            "I0416 04:23:27.133444 140601142413184 run_classifier.py:465] input_ids: 101 1997 1996 4759 5691 1045 1005 2310 2464 1010 2069 2093 2018 2428 5881 2007 2033 1012 1996 2034 2003 1996 6581 5469 1037 6925 1997 2048 5208 1012 1996 2117 1998 2353 1011 1998 2085 2959 2205 1011 2031 2035 2042 2380 9212 15854 2243 1005 1055 5691 1010 8419 2214 11097 1010 11883 2005 3203 14096 1007 1010 1998 2085 21810 1012 1026 7987 1013 1028 1026 7987 1013 1028 2380 17704 15537 2033 1997 15969 10225 25318 2007 2010 20868 2890 28943 5897 2875 4680 1012 2035 2010 5691 2024 16880 1010 2021 2025 1999 1037 24665 4017 14663 3560 3168 1012 2009 1005 1055 2062 2066 2002 3065 2149 2054 2057 2123 1005 1056 5987 2000 2156 1011 4050 8146 2008 2175 102\n"
          ],
          "name": "stderr"
        },
        {
          "output_type": "stream",
          "text": [
            "INFO:tensorflow:input_mask: 1 1 1 1 1 1 1 1 1 1 1 1 1 1 1 1 1 1 1 1 1 1 1 1 1 1 1 1 1 1 1 1 1 1 1 1 1 1 1 1 1 1 1 1 1 1 1 1 1 1 1 1 1 1 1 1 1 1 1 1 1 1 1 1 1 1 1 1 1 1 1 1 1 1 1 1 1 1 1 1 1 1 1 1 1 1 1 1 1 1 1 1 1 1 1 1 1 1 1 1 1 1 1 1 1 1 1 1 1 1 1 1 1 1 1 1 1 1 1 1 1 1 1 1 1 1 1 1\n"
          ],
          "name": "stdout"
        },
        {
          "output_type": "stream",
          "text": [
            "I0416 04:23:27.135618 140601142413184 run_classifier.py:466] input_mask: 1 1 1 1 1 1 1 1 1 1 1 1 1 1 1 1 1 1 1 1 1 1 1 1 1 1 1 1 1 1 1 1 1 1 1 1 1 1 1 1 1 1 1 1 1 1 1 1 1 1 1 1 1 1 1 1 1 1 1 1 1 1 1 1 1 1 1 1 1 1 1 1 1 1 1 1 1 1 1 1 1 1 1 1 1 1 1 1 1 1 1 1 1 1 1 1 1 1 1 1 1 1 1 1 1 1 1 1 1 1 1 1 1 1 1 1 1 1 1 1 1 1 1 1 1 1 1 1\n"
          ],
          "name": "stderr"
        },
        {
          "output_type": "stream",
          "text": [
            "INFO:tensorflow:segment_ids: 0 0 0 0 0 0 0 0 0 0 0 0 0 0 0 0 0 0 0 0 0 0 0 0 0 0 0 0 0 0 0 0 0 0 0 0 0 0 0 0 0 0 0 0 0 0 0 0 0 0 0 0 0 0 0 0 0 0 0 0 0 0 0 0 0 0 0 0 0 0 0 0 0 0 0 0 0 0 0 0 0 0 0 0 0 0 0 0 0 0 0 0 0 0 0 0 0 0 0 0 0 0 0 0 0 0 0 0 0 0 0 0 0 0 0 0 0 0 0 0 0 0 0 0 0 0 0 0\n"
          ],
          "name": "stdout"
        },
        {
          "output_type": "stream",
          "text": [
            "I0416 04:23:27.138736 140601142413184 run_classifier.py:467] segment_ids: 0 0 0 0 0 0 0 0 0 0 0 0 0 0 0 0 0 0 0 0 0 0 0 0 0 0 0 0 0 0 0 0 0 0 0 0 0 0 0 0 0 0 0 0 0 0 0 0 0 0 0 0 0 0 0 0 0 0 0 0 0 0 0 0 0 0 0 0 0 0 0 0 0 0 0 0 0 0 0 0 0 0 0 0 0 0 0 0 0 0 0 0 0 0 0 0 0 0 0 0 0 0 0 0 0 0 0 0 0 0 0 0 0 0 0 0 0 0 0 0 0 0 0 0 0 0 0 0\n"
          ],
          "name": "stderr"
        },
        {
          "output_type": "stream",
          "text": [
            "INFO:tensorflow:label: 1 (id = 1)\n"
          ],
          "name": "stdout"
        },
        {
          "output_type": "stream",
          "text": [
            "I0416 04:23:27.141464 140601142413184 run_classifier.py:468] label: 1 (id = 1)\n"
          ],
          "name": "stderr"
        },
        {
          "output_type": "stream",
          "text": [
            "INFO:tensorflow:Writing example 10000 of 25000\n"
          ],
          "name": "stdout"
        },
        {
          "output_type": "stream",
          "text": [
            "I0416 04:24:15.172024 140601142413184 run_classifier.py:774] Writing example 10000 of 25000\n"
          ],
          "name": "stderr"
        },
        {
          "output_type": "stream",
          "text": [
            "INFO:tensorflow:Writing example 20000 of 25000\n"
          ],
          "name": "stdout"
        },
        {
          "output_type": "stream",
          "text": [
            "I0416 04:25:01.334923 140601142413184 run_classifier.py:774] Writing example 20000 of 25000\n"
          ],
          "name": "stderr"
        },
        {
          "output_type": "stream",
          "text": [
            "INFO:tensorflow:Using config: {'_model_dir': 'output', '_tf_random_seed': None, '_save_summary_steps': 100, '_save_checkpoints_steps': 10000, '_save_checkpoints_secs': None, '_session_config': allow_soft_placement: true\n",
            "graph_options {\n",
            "  rewrite_options {\n",
            "    meta_optimizer_iterations: ONE\n",
            "  }\n",
            "}\n",
            ", '_keep_checkpoint_max': 5, '_keep_checkpoint_every_n_hours': 10000, '_log_step_count_steps': 100, '_train_distribute': None, '_device_fn': None, '_protocol': None, '_eval_distribute': None, '_experimental_distribute': None, '_service': None, '_cluster_spec': <tensorflow.python.training.server_lib.ClusterSpec object at 0x7fdfbaf5c0b8>, '_task_type': 'worker', '_task_id': 0, '_global_id_in_cluster': 0, '_master': '', '_evaluation_master': '', '_is_chief': True, '_num_ps_replicas': 0, '_num_worker_replicas': 1}\n"
          ],
          "name": "stdout"
        },
        {
          "output_type": "stream",
          "text": [
            "I0416 04:25:25.634265 140601142413184 estimator.py:201] Using config: {'_model_dir': 'output', '_tf_random_seed': None, '_save_summary_steps': 100, '_save_checkpoints_steps': 10000, '_save_checkpoints_secs': None, '_session_config': allow_soft_placement: true\n",
            "graph_options {\n",
            "  rewrite_options {\n",
            "    meta_optimizer_iterations: ONE\n",
            "  }\n",
            "}\n",
            ", '_keep_checkpoint_max': 5, '_keep_checkpoint_every_n_hours': 10000, '_log_step_count_steps': 100, '_train_distribute': None, '_device_fn': None, '_protocol': None, '_eval_distribute': None, '_experimental_distribute': None, '_service': None, '_cluster_spec': <tensorflow.python.training.server_lib.ClusterSpec object at 0x7fdfbaf5c0b8>, '_task_type': 'worker', '_task_id': 0, '_global_id_in_cluster': 0, '_master': '', '_evaluation_master': '', '_is_chief': True, '_num_ps_replicas': 0, '_num_worker_replicas': 1}\n"
          ],
          "name": "stderr"
        },
        {
          "output_type": "stream",
          "text": [
            "INFO:tensorflow:Calling model_fn.\n"
          ],
          "name": "stdout"
        },
        {
          "output_type": "stream",
          "text": [
            "I0416 04:25:38.912484 140601142413184 estimator.py:1111] Calling model_fn.\n"
          ],
          "name": "stderr"
        },
        {
          "output_type": "stream",
          "text": [
            "INFO:tensorflow:Saver not created because there are no variables in the graph to restore\n"
          ],
          "name": "stdout"
        },
        {
          "output_type": "stream",
          "text": [
            "I0416 04:25:42.701229 140601142413184 saver.py:1483] Saver not created because there are no variables in the graph to restore\n"
          ],
          "name": "stderr"
        },
        {
          "output_type": "stream",
          "text": [
            "WARNING:tensorflow:From /usr/local/lib/python3.6/dist-packages/bert_text/bert_text.py:68: calling dropout (from tensorflow.python.ops.nn_ops) with keep_prob is deprecated and will be removed in a future version.\n",
            "Instructions for updating:\n",
            "Please use `rate` instead of `keep_prob`. Rate should be set to `rate = 1 - keep_prob`.\n"
          ],
          "name": "stdout"
        },
        {
          "output_type": "stream",
          "text": [
            "W0416 04:25:42.837468 140601142413184 deprecation.py:506] From /usr/local/lib/python3.6/dist-packages/bert_text/bert_text.py:68: calling dropout (from tensorflow.python.ops.nn_ops) with keep_prob is deprecated and will be removed in a future version.\n",
            "Instructions for updating:\n",
            "Please use `rate` instead of `keep_prob`. Rate should be set to `rate = 1 - keep_prob`.\n"
          ],
          "name": "stderr"
        },
        {
          "output_type": "stream",
          "text": [
            "WARNING:tensorflow:From /usr/local/lib/python3.6/dist-packages/tensorflow/python/training/learning_rate_decay_v2.py:321: div (from tensorflow.python.ops.math_ops) is deprecated and will be removed in a future version.\n",
            "Instructions for updating:\n",
            "Deprecated in favor of operator or tf.math.divide.\n"
          ],
          "name": "stdout"
        },
        {
          "output_type": "stream",
          "text": [
            "W0416 04:25:42.896167 140601142413184 deprecation.py:323] From /usr/local/lib/python3.6/dist-packages/tensorflow/python/training/learning_rate_decay_v2.py:321: div (from tensorflow.python.ops.math_ops) is deprecated and will be removed in a future version.\n",
            "Instructions for updating:\n",
            "Deprecated in favor of operator or tf.math.divide.\n"
          ],
          "name": "stderr"
        },
        {
          "output_type": "stream",
          "text": [
            "WARNING:tensorflow:From /usr/local/lib/python3.6/dist-packages/tensorflow/python/ops/math_ops.py:3066: to_int32 (from tensorflow.python.ops.math_ops) is deprecated and will be removed in a future version.\n",
            "Instructions for updating:\n",
            "Use tf.cast instead.\n"
          ],
          "name": "stdout"
        },
        {
          "output_type": "stream",
          "text": [
            "W0416 04:25:42.990310 140601142413184 deprecation.py:323] From /usr/local/lib/python3.6/dist-packages/tensorflow/python/ops/math_ops.py:3066: to_int32 (from tensorflow.python.ops.math_ops) is deprecated and will be removed in a future version.\n",
            "Instructions for updating:\n",
            "Use tf.cast instead.\n",
            "/usr/local/lib/python3.6/dist-packages/tensorflow/python/ops/gradients_impl.py:110: UserWarning: Converting sparse IndexedSlices to a dense Tensor of unknown shape. This may consume a large amount of memory.\n",
            "  \"Converting sparse IndexedSlices to a dense Tensor of unknown shape. \"\n"
          ],
          "name": "stderr"
        },
        {
          "output_type": "stream",
          "text": [
            "WARNING:tensorflow:From /usr/local/lib/python3.6/dist-packages/tensorflow/python/ops/metrics_impl.py:455: to_float (from tensorflow.python.ops.math_ops) is deprecated and will be removed in a future version.\n",
            "Instructions for updating:\n",
            "Use tf.cast instead.\n"
          ],
          "name": "stdout"
        },
        {
          "output_type": "stream",
          "text": [
            "W0416 04:25:51.999837 140601142413184 deprecation.py:323] From /usr/local/lib/python3.6/dist-packages/tensorflow/python/ops/metrics_impl.py:455: to_float (from tensorflow.python.ops.math_ops) is deprecated and will be removed in a future version.\n",
            "Instructions for updating:\n",
            "Use tf.cast instead.\n"
          ],
          "name": "stderr"
        },
        {
          "output_type": "stream",
          "text": [
            "\n",
            "WARNING: The TensorFlow contrib module will not be included in TensorFlow 2.0.\n",
            "For more information, please see:\n",
            "  * https://github.com/tensorflow/community/blob/master/rfcs/20180907-contrib-sunset.md\n",
            "  * https://github.com/tensorflow/addons\n",
            "If you depend on functionality not listed there, please file an issue.\n",
            "\n",
            "INFO:tensorflow:Done calling model_fn.\n"
          ],
          "name": "stdout"
        },
        {
          "output_type": "stream",
          "text": [
            "I0416 04:25:54.383054 140601142413184 estimator.py:1113] Done calling model_fn.\n"
          ],
          "name": "stderr"
        },
        {
          "output_type": "stream",
          "text": [
            "INFO:tensorflow:Create CheckpointSaverHook.\n"
          ],
          "name": "stdout"
        },
        {
          "output_type": "stream",
          "text": [
            "I0416 04:25:54.387055 140601142413184 basic_session_run_hooks.py:527] Create CheckpointSaverHook.\n"
          ],
          "name": "stderr"
        },
        {
          "output_type": "stream",
          "text": [
            "INFO:tensorflow:Graph was finalized.\n"
          ],
          "name": "stdout"
        },
        {
          "output_type": "stream",
          "text": [
            "I0416 04:25:58.397581 140601142413184 monitored_session.py:222] Graph was finalized.\n"
          ],
          "name": "stderr"
        },
        {
          "output_type": "stream",
          "text": [
            "INFO:tensorflow:Running local_init_op.\n"
          ],
          "name": "stdout"
        },
        {
          "output_type": "stream",
          "text": [
            "I0416 04:26:04.604238 140601142413184 session_manager.py:491] Running local_init_op.\n"
          ],
          "name": "stderr"
        },
        {
          "output_type": "stream",
          "text": [
            "INFO:tensorflow:Done running local_init_op.\n"
          ],
          "name": "stdout"
        },
        {
          "output_type": "stream",
          "text": [
            "I0416 04:26:04.870136 140601142413184 session_manager.py:493] Done running local_init_op.\n"
          ],
          "name": "stderr"
        },
        {
          "output_type": "stream",
          "text": [
            "INFO:tensorflow:Saving checkpoints for 0 into output/model.ckpt.\n"
          ],
          "name": "stdout"
        },
        {
          "output_type": "stream",
          "text": [
            "I0416 04:26:23.282978 140601142413184 basic_session_run_hooks.py:594] Saving checkpoints for 0 into output/model.ckpt.\n"
          ],
          "name": "stderr"
        },
        {
          "output_type": "stream",
          "text": [
            "INFO:tensorflow:loss = 0.79415035, step = 0\n"
          ],
          "name": "stdout"
        },
        {
          "output_type": "stream",
          "text": [
            "I0416 04:26:42.587016 140601142413184 basic_session_run_hooks.py:249] loss = 0.79415035, step = 0\n"
          ],
          "name": "stderr"
        },
        {
          "output_type": "stream",
          "text": [
            "INFO:tensorflow:global_step/sec: 0.924413\n"
          ],
          "name": "stdout"
        },
        {
          "output_type": "stream",
          "text": [
            "I0416 04:28:30.762955 140601142413184 basic_session_run_hooks.py:680] global_step/sec: 0.924413\n"
          ],
          "name": "stderr"
        },
        {
          "output_type": "stream",
          "text": [
            "INFO:tensorflow:loss = 0.5590533, step = 100 (108.181 sec)\n"
          ],
          "name": "stdout"
        },
        {
          "output_type": "stream",
          "text": [
            "I0416 04:28:30.767656 140601142413184 basic_session_run_hooks.py:247] loss = 0.5590533, step = 100 (108.181 sec)\n"
          ],
          "name": "stderr"
        },
        {
          "output_type": "stream",
          "text": [
            "INFO:tensorflow:global_step/sec: 1.05256\n"
          ],
          "name": "stdout"
        },
        {
          "output_type": "stream",
          "text": [
            "I0416 04:30:05.769121 140601142413184 basic_session_run_hooks.py:680] global_step/sec: 1.05256\n"
          ],
          "name": "stderr"
        },
        {
          "output_type": "stream",
          "text": [
            "INFO:tensorflow:loss = 0.4950863, step = 200 (95.004 sec)\n"
          ],
          "name": "stdout"
        },
        {
          "output_type": "stream",
          "text": [
            "I0416 04:30:05.771805 140601142413184 basic_session_run_hooks.py:247] loss = 0.4950863, step = 200 (95.004 sec)\n"
          ],
          "name": "stderr"
        },
        {
          "output_type": "stream",
          "text": [
            "INFO:tensorflow:global_step/sec: 1.05647\n"
          ],
          "name": "stdout"
        },
        {
          "output_type": "stream",
          "text": [
            "I0416 04:31:40.424138 140601142413184 basic_session_run_hooks.py:680] global_step/sec: 1.05647\n"
          ],
          "name": "stderr"
        },
        {
          "output_type": "stream",
          "text": [
            "INFO:tensorflow:loss = 0.37482697, step = 300 (94.659 sec)\n"
          ],
          "name": "stdout"
        },
        {
          "output_type": "stream",
          "text": [
            "I0416 04:31:40.431093 140601142413184 basic_session_run_hooks.py:247] loss = 0.37482697, step = 300 (94.659 sec)\n"
          ],
          "name": "stderr"
        },
        {
          "output_type": "stream",
          "text": [
            "INFO:tensorflow:global_step/sec: 1.05606\n"
          ],
          "name": "stdout"
        },
        {
          "output_type": "stream",
          "text": [
            "I0416 04:33:15.115927 140601142413184 basic_session_run_hooks.py:680] global_step/sec: 1.05606\n"
          ],
          "name": "stderr"
        },
        {
          "output_type": "stream",
          "text": [
            "INFO:tensorflow:loss = 0.44337273, step = 400 (94.695 sec)\n"
          ],
          "name": "stdout"
        },
        {
          "output_type": "stream",
          "text": [
            "I0416 04:33:15.126283 140601142413184 basic_session_run_hooks.py:247] loss = 0.44337273, step = 400 (94.695 sec)\n"
          ],
          "name": "stderr"
        },
        {
          "output_type": "stream",
          "text": [
            "INFO:tensorflow:global_step/sec: 1.05726\n"
          ],
          "name": "stdout"
        },
        {
          "output_type": "stream",
          "text": [
            "I0416 04:34:49.700304 140601142413184 basic_session_run_hooks.py:680] global_step/sec: 1.05726\n"
          ],
          "name": "stderr"
        },
        {
          "output_type": "stream",
          "text": [
            "INFO:tensorflow:loss = 0.41684312, step = 500 (94.582 sec)\n"
          ],
          "name": "stdout"
        },
        {
          "output_type": "stream",
          "text": [
            "I0416 04:34:49.708576 140601142413184 basic_session_run_hooks.py:247] loss = 0.41684312, step = 500 (94.582 sec)\n"
          ],
          "name": "stderr"
        },
        {
          "output_type": "stream",
          "text": [
            "INFO:tensorflow:global_step/sec: 1.05416\n"
          ],
          "name": "stdout"
        },
        {
          "output_type": "stream",
          "text": [
            "I0416 04:36:24.562546 140601142413184 basic_session_run_hooks.py:680] global_step/sec: 1.05416\n"
          ],
          "name": "stderr"
        },
        {
          "output_type": "stream",
          "text": [
            "INFO:tensorflow:loss = 0.14741108, step = 600 (94.857 sec)\n"
          ],
          "name": "stdout"
        },
        {
          "output_type": "stream",
          "text": [
            "I0416 04:36:24.565459 140601142413184 basic_session_run_hooks.py:247] loss = 0.14741108, step = 600 (94.857 sec)\n"
          ],
          "name": "stderr"
        },
        {
          "output_type": "stream",
          "text": [
            "INFO:tensorflow:global_step/sec: 1.05654\n"
          ],
          "name": "stdout"
        },
        {
          "output_type": "stream",
          "text": [
            "I0416 04:37:59.211252 140601142413184 basic_session_run_hooks.py:680] global_step/sec: 1.05654\n"
          ],
          "name": "stderr"
        },
        {
          "output_type": "stream",
          "text": [
            "INFO:tensorflow:loss = 0.3598442, step = 700 (94.649 sec)\n"
          ],
          "name": "stdout"
        },
        {
          "output_type": "stream",
          "text": [
            "I0416 04:37:59.213970 140601142413184 basic_session_run_hooks.py:247] loss = 0.3598442, step = 700 (94.649 sec)\n"
          ],
          "name": "stderr"
        },
        {
          "output_type": "stream",
          "text": [
            "INFO:tensorflow:global_step/sec: 1.05811\n"
          ],
          "name": "stdout"
        },
        {
          "output_type": "stream",
          "text": [
            "I0416 04:39:33.719848 140601142413184 basic_session_run_hooks.py:680] global_step/sec: 1.05811\n"
          ],
          "name": "stderr"
        },
        {
          "output_type": "stream",
          "text": [
            "INFO:tensorflow:loss = 0.18707664, step = 800 (94.509 sec)\n"
          ],
          "name": "stdout"
        },
        {
          "output_type": "stream",
          "text": [
            "I0416 04:39:33.722784 140601142413184 basic_session_run_hooks.py:247] loss = 0.18707664, step = 800 (94.509 sec)\n"
          ],
          "name": "stderr"
        },
        {
          "output_type": "stream",
          "text": [
            "INFO:tensorflow:global_step/sec: 1.05603\n"
          ],
          "name": "stdout"
        },
        {
          "output_type": "stream",
          "text": [
            "I0416 04:41:08.413732 140601142413184 basic_session_run_hooks.py:680] global_step/sec: 1.05603\n"
          ],
          "name": "stderr"
        },
        {
          "output_type": "stream",
          "text": [
            "INFO:tensorflow:loss = 0.13896373, step = 900 (94.694 sec)\n"
          ],
          "name": "stdout"
        },
        {
          "output_type": "stream",
          "text": [
            "I0416 04:41:08.416386 140601142413184 basic_session_run_hooks.py:247] loss = 0.13896373, step = 900 (94.694 sec)\n"
          ],
          "name": "stderr"
        },
        {
          "output_type": "stream",
          "text": [
            "INFO:tensorflow:global_step/sec: 1.05141\n"
          ],
          "name": "stdout"
        },
        {
          "output_type": "stream",
          "text": [
            "I0416 04:42:43.524120 140601142413184 basic_session_run_hooks.py:680] global_step/sec: 1.05141\n"
          ],
          "name": "stderr"
        },
        {
          "output_type": "stream",
          "text": [
            "INFO:tensorflow:loss = 0.36098194, step = 1000 (95.116 sec)\n"
          ],
          "name": "stdout"
        },
        {
          "output_type": "stream",
          "text": [
            "I0416 04:42:43.532426 140601142413184 basic_session_run_hooks.py:247] loss = 0.36098194, step = 1000 (95.116 sec)\n"
          ],
          "name": "stderr"
        },
        {
          "output_type": "stream",
          "text": [
            "INFO:tensorflow:global_step/sec: 1.05602\n"
          ],
          "name": "stdout"
        },
        {
          "output_type": "stream",
          "text": [
            "I0416 04:44:18.219653 140601142413184 basic_session_run_hooks.py:680] global_step/sec: 1.05602\n"
          ],
          "name": "stderr"
        },
        {
          "output_type": "stream",
          "text": [
            "INFO:tensorflow:loss = 0.09549756, step = 1100 (94.690 sec)\n"
          ],
          "name": "stdout"
        },
        {
          "output_type": "stream",
          "text": [
            "I0416 04:44:18.222688 140601142413184 basic_session_run_hooks.py:247] loss = 0.09549756, step = 1100 (94.690 sec)\n"
          ],
          "name": "stderr"
        },
        {
          "output_type": "stream",
          "text": [
            "INFO:tensorflow:global_step/sec: 1.0573\n"
          ],
          "name": "stdout"
        },
        {
          "output_type": "stream",
          "text": [
            "I0416 04:45:52.799977 140601142413184 basic_session_run_hooks.py:680] global_step/sec: 1.0573\n"
          ],
          "name": "stderr"
        },
        {
          "output_type": "stream",
          "text": [
            "INFO:tensorflow:loss = 0.099026665, step = 1200 (94.580 sec)\n"
          ],
          "name": "stdout"
        },
        {
          "output_type": "stream",
          "text": [
            "I0416 04:45:52.803135 140601142413184 basic_session_run_hooks.py:247] loss = 0.099026665, step = 1200 (94.580 sec)\n"
          ],
          "name": "stderr"
        },
        {
          "output_type": "stream",
          "text": [
            "INFO:tensorflow:global_step/sec: 1.05871\n"
          ],
          "name": "stdout"
        },
        {
          "output_type": "stream",
          "text": [
            "I0416 04:47:27.254594 140601142413184 basic_session_run_hooks.py:680] global_step/sec: 1.05871\n"
          ],
          "name": "stderr"
        },
        {
          "output_type": "stream",
          "text": [
            "INFO:tensorflow:loss = 0.015622443, step = 1300 (94.458 sec)\n"
          ],
          "name": "stdout"
        },
        {
          "output_type": "stream",
          "text": [
            "I0416 04:47:27.260915 140601142413184 basic_session_run_hooks.py:247] loss = 0.015622443, step = 1300 (94.458 sec)\n"
          ],
          "name": "stderr"
        },
        {
          "output_type": "stream",
          "text": [
            "INFO:tensorflow:global_step/sec: 1.05326\n"
          ],
          "name": "stdout"
        },
        {
          "output_type": "stream",
          "text": [
            "I0416 04:49:02.197692 140601142413184 basic_session_run_hooks.py:680] global_step/sec: 1.05326\n"
          ],
          "name": "stderr"
        },
        {
          "output_type": "stream",
          "text": [
            "INFO:tensorflow:loss = 0.11271233, step = 1400 (94.939 sec)\n"
          ],
          "name": "stdout"
        },
        {
          "output_type": "stream",
          "text": [
            "I0416 04:49:02.200348 140601142413184 basic_session_run_hooks.py:247] loss = 0.11271233, step = 1400 (94.939 sec)\n"
          ],
          "name": "stderr"
        },
        {
          "output_type": "stream",
          "text": [
            "INFO:tensorflow:global_step/sec: 1.0514\n"
          ],
          "name": "stdout"
        },
        {
          "output_type": "stream",
          "text": [
            "I0416 04:50:37.309163 140601142413184 basic_session_run_hooks.py:680] global_step/sec: 1.0514\n"
          ],
          "name": "stderr"
        },
        {
          "output_type": "stream",
          "text": [
            "INFO:tensorflow:loss = 0.062470835, step = 1500 (95.112 sec)\n"
          ],
          "name": "stdout"
        },
        {
          "output_type": "stream",
          "text": [
            "I0416 04:50:37.311935 140601142413184 basic_session_run_hooks.py:247] loss = 0.062470835, step = 1500 (95.112 sec)\n"
          ],
          "name": "stderr"
        },
        {
          "output_type": "stream",
          "text": [
            "INFO:tensorflow:global_step/sec: 1.05581\n"
          ],
          "name": "stdout"
        },
        {
          "output_type": "stream",
          "text": [
            "I0416 04:52:12.022779 140601142413184 basic_session_run_hooks.py:680] global_step/sec: 1.05581\n"
          ],
          "name": "stderr"
        },
        {
          "output_type": "stream",
          "text": [
            "INFO:tensorflow:loss = 0.13488881, step = 1600 (94.713 sec)\n"
          ],
          "name": "stdout"
        },
        {
          "output_type": "stream",
          "text": [
            "I0416 04:52:12.025394 140601142413184 basic_session_run_hooks.py:247] loss = 0.13488881, step = 1600 (94.713 sec)\n"
          ],
          "name": "stderr"
        },
        {
          "output_type": "stream",
          "text": [
            "INFO:tensorflow:global_step/sec: 1.05801\n"
          ],
          "name": "stdout"
        },
        {
          "output_type": "stream",
          "text": [
            "I0416 04:53:46.540154 140601142413184 basic_session_run_hooks.py:680] global_step/sec: 1.05801\n"
          ],
          "name": "stderr"
        },
        {
          "output_type": "stream",
          "text": [
            "INFO:tensorflow:loss = 0.202385, step = 1700 (94.518 sec)\n"
          ],
          "name": "stdout"
        },
        {
          "output_type": "stream",
          "text": [
            "I0416 04:53:46.543181 140601142413184 basic_session_run_hooks.py:247] loss = 0.202385, step = 1700 (94.518 sec)\n"
          ],
          "name": "stderr"
        },
        {
          "output_type": "stream",
          "text": [
            "INFO:tensorflow:global_step/sec: 1.05479\n"
          ],
          "name": "stdout"
        },
        {
          "output_type": "stream",
          "text": [
            "I0416 04:55:21.345672 140601142413184 basic_session_run_hooks.py:680] global_step/sec: 1.05479\n"
          ],
          "name": "stderr"
        },
        {
          "output_type": "stream",
          "text": [
            "INFO:tensorflow:loss = 0.056734152, step = 1800 (94.807 sec)\n"
          ],
          "name": "stdout"
        },
        {
          "output_type": "stream",
          "text": [
            "I0416 04:55:21.350622 140601142413184 basic_session_run_hooks.py:247] loss = 0.056734152, step = 1800 (94.807 sec)\n"
          ],
          "name": "stderr"
        },
        {
          "output_type": "stream",
          "text": [
            "INFO:tensorflow:global_step/sec: 1.05519\n"
          ],
          "name": "stdout"
        },
        {
          "output_type": "stream",
          "text": [
            "I0416 04:56:56.115016 140601142413184 basic_session_run_hooks.py:680] global_step/sec: 1.05519\n"
          ],
          "name": "stderr"
        },
        {
          "output_type": "stream",
          "text": [
            "INFO:tensorflow:loss = 0.019949, step = 1900 (94.767 sec)\n"
          ],
          "name": "stdout"
        },
        {
          "output_type": "stream",
          "text": [
            "I0416 04:56:56.117526 140601142413184 basic_session_run_hooks.py:247] loss = 0.019949, step = 1900 (94.767 sec)\n"
          ],
          "name": "stderr"
        },
        {
          "output_type": "stream",
          "text": [
            "INFO:tensorflow:global_step/sec: 1.05748\n"
          ],
          "name": "stdout"
        },
        {
          "output_type": "stream",
          "text": [
            "I0416 04:58:30.679326 140601142413184 basic_session_run_hooks.py:680] global_step/sec: 1.05748\n"
          ],
          "name": "stderr"
        },
        {
          "output_type": "stream",
          "text": [
            "INFO:tensorflow:loss = 0.0021820776, step = 2000 (94.564 sec)\n"
          ],
          "name": "stdout"
        },
        {
          "output_type": "stream",
          "text": [
            "I0416 04:58:30.681867 140601142413184 basic_session_run_hooks.py:247] loss = 0.0021820776, step = 2000 (94.564 sec)\n"
          ],
          "name": "stderr"
        },
        {
          "output_type": "stream",
          "text": [
            "INFO:tensorflow:global_step/sec: 1.05629\n"
          ],
          "name": "stdout"
        },
        {
          "output_type": "stream",
          "text": [
            "I0416 05:00:05.350447 140601142413184 basic_session_run_hooks.py:680] global_step/sec: 1.05629\n"
          ],
          "name": "stderr"
        },
        {
          "output_type": "stream",
          "text": [
            "INFO:tensorflow:loss = 0.0020388097, step = 2100 (94.677 sec)\n"
          ],
          "name": "stdout"
        },
        {
          "output_type": "stream",
          "text": [
            "I0416 05:00:05.358716 140601142413184 basic_session_run_hooks.py:247] loss = 0.0020388097, step = 2100 (94.677 sec)\n"
          ],
          "name": "stderr"
        },
        {
          "output_type": "stream",
          "text": [
            "INFO:tensorflow:global_step/sec: 1.05412\n"
          ],
          "name": "stdout"
        },
        {
          "output_type": "stream",
          "text": [
            "I0416 05:01:40.216423 140601142413184 basic_session_run_hooks.py:680] global_step/sec: 1.05412\n"
          ],
          "name": "stderr"
        },
        {
          "output_type": "stream",
          "text": [
            "INFO:tensorflow:loss = 0.0017511204, step = 2200 (94.861 sec)\n"
          ],
          "name": "stdout"
        },
        {
          "output_type": "stream",
          "text": [
            "I0416 05:01:40.219609 140601142413184 basic_session_run_hooks.py:247] loss = 0.0017511204, step = 2200 (94.861 sec)\n"
          ],
          "name": "stderr"
        },
        {
          "output_type": "stream",
          "text": [
            "INFO:tensorflow:global_step/sec: 1.05579\n"
          ],
          "name": "stdout"
        },
        {
          "output_type": "stream",
          "text": [
            "I0416 05:03:14.932367 140601142413184 basic_session_run_hooks.py:680] global_step/sec: 1.05579\n"
          ],
          "name": "stderr"
        },
        {
          "output_type": "stream",
          "text": [
            "INFO:tensorflow:loss = 0.010016678, step = 2300 (94.716 sec)\n"
          ],
          "name": "stdout"
        },
        {
          "output_type": "stream",
          "text": [
            "I0416 05:03:14.935438 140601142413184 basic_session_run_hooks.py:247] loss = 0.010016678, step = 2300 (94.716 sec)\n"
          ],
          "name": "stderr"
        },
        {
          "output_type": "stream",
          "text": [
            "INFO:tensorflow:Saving checkpoints for 2343 into output/model.ckpt.\n"
          ],
          "name": "stdout"
        },
        {
          "output_type": "stream",
          "text": [
            "I0416 05:03:54.920453 140601142413184 basic_session_run_hooks.py:594] Saving checkpoints for 2343 into output/model.ckpt.\n"
          ],
          "name": "stderr"
        },
        {
          "output_type": "stream",
          "text": [
            "INFO:tensorflow:Loss for final step: 0.07618553.\n"
          ],
          "name": "stdout"
        },
        {
          "output_type": "stream",
          "text": [
            "I0416 05:04:05.277988 140601142413184 estimator.py:359] Loss for final step: 0.07618553.\n"
          ],
          "name": "stderr"
        },
        {
          "output_type": "stream",
          "text": [
            "INFO:tensorflow:Calling model_fn.\n"
          ],
          "name": "stdout"
        },
        {
          "output_type": "stream",
          "text": [
            "I0416 05:04:19.707182 140601142413184 estimator.py:1111] Calling model_fn.\n"
          ],
          "name": "stderr"
        },
        {
          "output_type": "stream",
          "text": [
            "INFO:tensorflow:Saver not created because there are no variables in the graph to restore\n"
          ],
          "name": "stdout"
        },
        {
          "output_type": "stream",
          "text": [
            "I0416 05:04:23.520144 140601142413184 saver.py:1483] Saver not created because there are no variables in the graph to restore\n",
            "/usr/local/lib/python3.6/dist-packages/tensorflow/python/ops/gradients_impl.py:110: UserWarning: Converting sparse IndexedSlices to a dense Tensor of unknown shape. This may consume a large amount of memory.\n",
            "  \"Converting sparse IndexedSlices to a dense Tensor of unknown shape. \"\n"
          ],
          "name": "stderr"
        },
        {
          "output_type": "stream",
          "text": [
            "INFO:tensorflow:Done calling model_fn.\n"
          ],
          "name": "stdout"
        },
        {
          "output_type": "stream",
          "text": [
            "I0416 05:04:33.339354 140601142413184 estimator.py:1113] Done calling model_fn.\n"
          ],
          "name": "stderr"
        },
        {
          "output_type": "stream",
          "text": [
            "INFO:tensorflow:Starting evaluation at 2019-04-16T05:04:33Z\n"
          ],
          "name": "stdout"
        },
        {
          "output_type": "stream",
          "text": [
            "I0416 05:04:33.364917 140601142413184 evaluation.py:257] Starting evaluation at 2019-04-16T05:04:33Z\n"
          ],
          "name": "stderr"
        },
        {
          "output_type": "stream",
          "text": [
            "INFO:tensorflow:Graph was finalized.\n"
          ],
          "name": "stdout"
        },
        {
          "output_type": "stream",
          "text": [
            "I0416 05:04:35.574426 140601142413184 monitored_session.py:222] Graph was finalized.\n"
          ],
          "name": "stderr"
        },
        {
          "output_type": "stream",
          "text": [
            "WARNING:tensorflow:From /usr/local/lib/python3.6/dist-packages/tensorflow/python/training/saver.py:1266: checkpoint_exists (from tensorflow.python.training.checkpoint_management) is deprecated and will be removed in a future version.\n",
            "Instructions for updating:\n",
            "Use standard file APIs to check for files with this prefix.\n"
          ],
          "name": "stdout"
        },
        {
          "output_type": "stream",
          "text": [
            "W0416 05:04:35.577924 140601142413184 deprecation.py:323] From /usr/local/lib/python3.6/dist-packages/tensorflow/python/training/saver.py:1266: checkpoint_exists (from tensorflow.python.training.checkpoint_management) is deprecated and will be removed in a future version.\n",
            "Instructions for updating:\n",
            "Use standard file APIs to check for files with this prefix.\n"
          ],
          "name": "stderr"
        },
        {
          "output_type": "stream",
          "text": [
            "INFO:tensorflow:Restoring parameters from output/model.ckpt-2343\n"
          ],
          "name": "stdout"
        },
        {
          "output_type": "stream",
          "text": [
            "I0416 05:04:35.581755 140601142413184 saver.py:1270] Restoring parameters from output/model.ckpt-2343\n"
          ],
          "name": "stderr"
        },
        {
          "output_type": "stream",
          "text": [
            "INFO:tensorflow:Running local_init_op.\n"
          ],
          "name": "stdout"
        },
        {
          "output_type": "stream",
          "text": [
            "I0416 05:04:38.361054 140601142413184 session_manager.py:491] Running local_init_op.\n"
          ],
          "name": "stderr"
        },
        {
          "output_type": "stream",
          "text": [
            "INFO:tensorflow:Done running local_init_op.\n"
          ],
          "name": "stdout"
        },
        {
          "output_type": "stream",
          "text": [
            "I0416 05:04:38.685400 140601142413184 session_manager.py:493] Done running local_init_op.\n"
          ],
          "name": "stderr"
        },
        {
          "output_type": "stream",
          "text": [
            "INFO:tensorflow:Finished evaluation at 2019-04-16-05:08:44\n"
          ],
          "name": "stdout"
        },
        {
          "output_type": "stream",
          "text": [
            "I0416 05:08:44.543210 140601142413184 evaluation.py:277] Finished evaluation at 2019-04-16-05:08:44\n"
          ],
          "name": "stderr"
        },
        {
          "output_type": "stream",
          "text": [
            "INFO:tensorflow:Saving dict for global step 2343: auc = 0.88628, eval_accuracy = 0.88628, f1_score = 0.8866653, false_negatives = 1379.0, false_positives = 1464.0, global_step = 2343, loss = 0.48060355, precision = 0.88367105, recall = 0.88968, true_negatives = 11036.0, true_positives = 11121.0\n"
          ],
          "name": "stdout"
        },
        {
          "output_type": "stream",
          "text": [
            "I0416 05:08:44.545839 140601142413184 estimator.py:1979] Saving dict for global step 2343: auc = 0.88628, eval_accuracy = 0.88628, f1_score = 0.8866653, false_negatives = 1379.0, false_positives = 1464.0, global_step = 2343, loss = 0.48060355, precision = 0.88367105, recall = 0.88968, true_negatives = 11036.0, true_positives = 11121.0\n"
          ],
          "name": "stderr"
        },
        {
          "output_type": "stream",
          "text": [
            "INFO:tensorflow:Saving 'checkpoint_path' summary for global step 2343: output/model.ckpt-2343\n"
          ],
          "name": "stdout"
        },
        {
          "output_type": "stream",
          "text": [
            "I0416 05:08:47.576958 140601142413184 estimator.py:2039] Saving 'checkpoint_path' summary for global step 2343: output/model.ckpt-2343\n"
          ],
          "name": "stderr"
        }
      ]
    },
    {
      "metadata": {
        "id": "DDS5k6XxYLJN",
        "colab_type": "code",
        "colab": {
          "base_uri": "https://localhost:8080/",
          "height": 204
        },
        "outputId": "c35b86e9-c0e1-4ca8-d7c8-dbc6b23e67df"
      },
      "cell_type": "code",
      "source": [
        "result"
      ],
      "execution_count": 14,
      "outputs": [
        {
          "output_type": "execute_result",
          "data": {
            "text/plain": [
              "{'auc': 0.88628,\n",
              " 'eval_accuracy': 0.88628,\n",
              " 'f1_score': 0.8866653,\n",
              " 'false_negatives': 1379.0,\n",
              " 'false_positives': 1464.0,\n",
              " 'global_step': 2343,\n",
              " 'loss': 0.48060355,\n",
              " 'precision': 0.88367105,\n",
              " 'recall': 0.88968,\n",
              " 'true_negatives': 11036.0,\n",
              " 'true_positives': 11121.0}"
            ]
          },
          "metadata": {
            "tags": []
          },
          "execution_count": 14
        }
      ]
    },
    {
      "metadata": {
        "id": "xbLOnlSBjFPI",
        "colab_type": "code",
        "colab": {}
      },
      "cell_type": "code",
      "source": [
        ""
      ],
      "execution_count": 0,
      "outputs": []
    }
  ]
}