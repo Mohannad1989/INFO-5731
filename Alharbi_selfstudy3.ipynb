{
 "cells": [
  {
   "cell_type": "markdown",
   "metadata": {},
   "source": [
    "Chapter#23"
   ]
  },
  {
   "cell_type": "code",
   "execution_count": 1,
   "metadata": {},
   "outputs": [
    {
     "name": "stdout",
     "output_type": "stream",
     "text": [
      "['user_id', 'name', 'num_friends'] \n",
      " {'user_id': 0, 'name': 'Hero', 'num_friends': 0} \n",
      " {'user_id': 1, 'name': 'Dunn', 'num_friends': 2} \n",
      " {'user_id': 2, 'name': 'Sue', 'num_friends': 3} \n",
      " {'user_id': 3, 'name': 'Chi', 'num_friends': 3} \n",
      " {'user_id': 4, 'name': 'Thor', 'num_friends': 3} \n",
      " {'user_id': 5, 'name': 'Clive', 'num_friends': 2} \n",
      " {'user_id': 6, 'name': 'Hicks', 'num_friends': 3} \n",
      " {'user_id': 7, 'name': 'Devin', 'num_friends': 2} \n",
      " {'user_id': 8, 'name': 'Kate', 'num_friends': 2} \n",
      " {'user_id': 9, 'name': 'Klein', 'num_friends': 3} \n",
      " {'user_id': 10, 'name': 'Jen', 'num_friends': 1}\n"
     ]
    }
   ],
   "source": [
    "#CREATE TABLE and INSERT\n",
    "\n",
    "class Table : \n",
    "\n",
    "    def __init__(self, columns): \n",
    "        self.columns = columns \n",
    "        self.rows = []\n",
    "        \n",
    "    def __repr__(self): \n",
    "        \"\"\"pretty representation of the table: columns then rows\"\"\" \n",
    "        return str(self.columns) + \" \\n \" + \" \\n \".join(map(str, self.rows))\n",
    "\n",
    "    def insert(self, row_values): \n",
    "        if len(row_values) != len(self.columns): \n",
    "            raise TypeError (\"wrong number of elements\") \n",
    "        row_dict = dict(zip(self.columns, row_values)) \n",
    "        self.rows.append(row_dict)\n",
    "\n",
    "\n",
    "users = Table ([\"user_id\", \"name\", \"num_friends\"]) \n",
    "users.insert([0, \"Hero\", 0]) \n",
    "users.insert([1, \"Dunn\", 2]) \n",
    "users.insert([2, \"Sue\", 3]) \n",
    "users.insert([3, \"Chi\", 3]) \n",
    "users.insert([4, \"Thor\", 3]) \n",
    "users.insert([5, \"Clive\", 2]) \n",
    "users.insert([6, \"Hicks\", 3]) \n",
    "users.insert([7, \"Devin\", 2]) \n",
    "users.insert([8, \"Kate\", 2]) \n",
    "users.insert([9, \"Klein\", 3]) \n",
    "users.insert([10, \"Jen\", 1])\n",
    "\n",
    "print(users)"
   ]
  },
  {
   "cell_type": "code",
   "execution_count": 2,
   "metadata": {},
   "outputs": [
    {
     "ename": "AttributeError",
     "evalue": "'Table' object has no attribute 'update'",
     "output_type": "error",
     "traceback": [
      "\u001b[0;31m---------------------------------------------------------------------------\u001b[0m",
      "\u001b[0;31mAttributeError\u001b[0m                            Traceback (most recent call last)",
      "\u001b[0;32m<ipython-input-2-5c8ead335451>\u001b[0m in \u001b[0;36m<module>\u001b[0;34m\u001b[0m\n\u001b[1;32m      8\u001b[0m \u001b[0;34m\u001b[0m\u001b[0m\n\u001b[1;32m      9\u001b[0m \u001b[0;34m\u001b[0m\u001b[0m\n\u001b[0;32m---> 10\u001b[0;31m users.update({'num_friends' : 3}, \n\u001b[0m\u001b[1;32m     11\u001b[0m              lambda row: row['user_id'] == 1)\n",
      "\u001b[0;31mAttributeError\u001b[0m: 'Table' object has no attribute 'update'"
     ]
    }
   ],
   "source": [
    "#update\n",
    "\n",
    "def update(self, updates, predicate): \n",
    "    for row in self.rows: \n",
    "        if predicate(row): \n",
    "            for column, new_value in updates.iteritems(): \n",
    "                row[column] = new_value\n",
    "\n",
    "\n",
    "users.update({'num_friends' : 3}, \n",
    "             lambda row: row['user_id'] == 1)"
   ]
  },
  {
   "cell_type": "code",
   "execution_count": 4,
   "metadata": {},
   "outputs": [
    {
     "ename": "IndentationError",
     "evalue": "unindent does not match any outer indentation level (<tokenize>, line 7)",
     "output_type": "error",
     "traceback": [
      "\u001b[0;36m  File \u001b[0;32m\"<tokenize>\"\u001b[0;36m, line \u001b[0;32m7\u001b[0m\n\u001b[0;31m    users.delete( lambda row: row[\"user_id\"] == 1)\u001b[0m\n\u001b[0m    ^\u001b[0m\n\u001b[0;31mIndentationError\u001b[0m\u001b[0;31m:\u001b[0m unindent does not match any outer indentation level\n"
     ]
    }
   ],
   "source": [
    "#delete\n",
    "\n",
    "def delete(self, predicate= lambda row: True):\n",
    "        \"\"\"delete all rows matching predicate \n",
    "        or all rows if no predicate supplied\"\"\"\n",
    "        self.rows = [row for row in self.rows if not (predicate(row))]\n",
    "    users.delete( lambda row: row[\"user_id\"] == 1) \n",
    "    users.delete()"
   ]
  },
  {
   "cell_type": "code",
   "execution_count": 15,
   "metadata": {},
   "outputs": [
    {
     "ename": "IndentationError",
     "evalue": "unexpected indent (<ipython-input-15-e0ad35bfdd19>, line 37)",
     "output_type": "error",
     "traceback": [
      "\u001b[0;36m  File \u001b[0;32m\"<ipython-input-15-e0ad35bfdd19>\"\u001b[0;36m, line \u001b[0;32m37\u001b[0m\n\u001b[0;31m    .select(keep_columns=[\"user_id\"])\u001b[0m\n\u001b[0m    ^\u001b[0m\n\u001b[0;31mIndentationError\u001b[0m\u001b[0;31m:\u001b[0m unexpected indent\n"
     ]
    }
   ],
   "source": [
    "#select\n",
    "\n",
    "def select(self, keep_columns=None, additional_columns=None): \n",
    "    if keep_columns is None: \n",
    "        keep_columns = self.columns\n",
    "    if additional_columns is None: \n",
    "        additional_columns = {}\n",
    "\n",
    "    result_table = Table(keep_columns + additional_columns.keys())\n",
    "\n",
    "    for row in self.rows: \n",
    "        new_row = [row[column] for column in keep_columns] \n",
    "        for column_name, calculation in additional_columns.iteritems(): \n",
    "            new_row.append(calculation(row)) \n",
    "        result_table.insert(new_row) \n",
    "    return result_table\n",
    "\n",
    "def where(self, predicate= lambda row: True): \n",
    "    \"\"\"return only the rows that satisfy the supplied predicate\"\"\" \n",
    "    where_table = Table(self.columns) \n",
    "    where_table.rows = filter(predicate, self.rows) \n",
    "    return where_table\n",
    "\n",
    "\n",
    "def limit(self, num_rows): \n",
    "    \"\"\"return only the first num_rows rows\"\"\" \n",
    "    limit_table = Table(self.columns) \n",
    "    limit_table.rows = self.rows[:num_rows] \n",
    "    return limit_table\n",
    "\n",
    "\n",
    "users.select()\n",
    "users.limit(2)\n",
    "users.select(keep_columns=[\"user_id\"])\n",
    "\n",
    "users.where( lambda row: row[\"name\"] == \"Dunn\") \n",
    "     .select(keep_columns=[\"user_id\"])\n",
    "\n",
    "def name_length(row): return len(row[\"name\"]): \n",
    "users.select(keep_columns=[], \n",
    "             additional_columns = { \"name_length\" : name_length })"
   ]
  },
  {
   "cell_type": "code",
   "execution_count": 6,
   "metadata": {},
   "outputs": [
    {
     "ename": "SyntaxError",
     "evalue": "unexpected character after line continuation character (<ipython-input-6-06462b8c2630>, line 21)",
     "output_type": "error",
     "traceback": [
      "\u001b[0;36m  File \u001b[0;32m\"<ipython-input-6-06462b8c2630>\"\u001b[0;36m, line \u001b[0;32m21\u001b[0m\n\u001b[0;31m    stats_by_length = users \\\u001b[0m\n\u001b[0m                              ^\u001b[0m\n\u001b[0;31mSyntaxError\u001b[0m\u001b[0;31m:\u001b[0m unexpected character after line continuation character\n"
     ]
    }
   ],
   "source": [
    "#group by\n",
    "\n",
    "def group_by(self, group_by_columns, aggregates, having=None): \n",
    "    grouped_rows = defaultdict(list) # populate groups \n",
    "    for row in self.rows: \n",
    "        key = tuple(row[column] for column in group_by_columns) \n",
    "        grouped_rows[key].append(row) \n",
    "        \n",
    "        result_table = Table(group_by_columns + aggregates.keys()) \n",
    "        \n",
    "        for key, rows in grouped_rows.iteritems(): \n",
    "            if having is None or having(rows): \n",
    "                new_row = list(key) \n",
    "                for aggregate_name, aggregate_fn in aggregates.iteritems(): \n",
    "                    new_row.append(aggregate_fn(rows)) \n",
    "                    result_table.insert(new_row)\n",
    "                    \n",
    "        return result_table \n",
    "    \n",
    "def min_user_id(rows): return min(row[\"user_id\"] for row in rows)\n",
    "stats_by_length = users \\ \n",
    "    .select(additional_columns={\"name_length\" : name_length}) \\ \n",
    "    .group_by(group_by_columns=[\"name_length\"],\n",
    "              aggregates={ \"min_user_id\" : min_user_id, \n",
    "                           \"num_users\" : len })\n",
    "\n",
    "def first_letter_of_name(row): \n",
    "    return row[\"name\"][0] if row[\"name\"] else \"\"\n",
    "\n",
    "def average_num_friends(rows): \n",
    "    return sum(row[\"num_friends\"] for row in rows) / len(rows)\n",
    "\n",
    "def enough_friends(rows): \n",
    "    return average_num_friends(rows) > 1\n",
    "\n",
    "\n",
    "avg_friends_by_letter = users \\ \n",
    "    .select(additional_columns={'first_letter' : first_letter_of_name}) \\ \n",
    "    .group_by(group_by_columns=['first_letter'], \n",
    "              aggregates={ \"avg_num_friends\" : average_num_friends }, \n",
    "              having=enough_friends)\n",
    "\n",
    "\n",
    "def sum_user_ids(rows): return sum(row[\"user_id\"] for row in rows) \n",
    "user_id_sum = users \\ \n",
    "    .where( lambda row: row[\"user_id\"] > 1) \\ \n",
    "    .group_by(group_by_columns=[], \n",
    "              aggregates={ \"user_id_sum\" : sum_user_ids })\n",
    "\n"
   ]
  },
  {
   "cell_type": "code",
   "execution_count": 7,
   "metadata": {},
   "outputs": [
    {
     "ename": "SyntaxError",
     "evalue": "unexpected character after line continuation character (<ipython-input-7-ce17878874e4>, line 8)",
     "output_type": "error",
     "traceback": [
      "\u001b[0;36m  File \u001b[0;32m\"<ipython-input-7-ce17878874e4>\"\u001b[0;36m, line \u001b[0;32m8\u001b[0m\n\u001b[0;31m    friendliest_letters = avg_friends_by_letter \\\u001b[0m\n\u001b[0m                                                  ^\u001b[0m\n\u001b[0;31mSyntaxError\u001b[0m\u001b[0;31m:\u001b[0m unexpected character after line continuation character\n"
     ]
    }
   ],
   "source": [
    "#order by\n",
    "\n",
    "def order_by(self, order): \n",
    "    new_table = self.select() \n",
    "    new_table.rows.sort(key=order) \n",
    "    return new_table\n",
    "\n",
    "friendliest_letters = avg_friends_by_letter \\ \n",
    "    .order_by( lambda row: -row[\"avg_num_friends\"]) \\\n",
    "    .limit(4)"
   ]
  },
  {
   "cell_type": "code",
   "execution_count": 8,
   "metadata": {},
   "outputs": [
    {
     "ename": "SyntaxError",
     "evalue": "unexpected character after line continuation character (<ipython-input-8-44807f54a725>, line 26)",
     "output_type": "error",
     "traceback": [
      "\u001b[0;36m  File \u001b[0;32m\"<ipython-input-8-44807f54a725>\"\u001b[0;36m, line \u001b[0;32m26\u001b[0m\n\u001b[0;31m    sql_users = users \\\u001b[0m\n\u001b[0m                        ^\u001b[0m\n\u001b[0;31mSyntaxError\u001b[0m\u001b[0;31m:\u001b[0m unexpected character after line continuation character\n"
     ]
    }
   ],
   "source": [
    "#join\n",
    "\n",
    "def join(self, other_table, left_join=False): \n",
    "    join_on_columns = [c for c in self.columns \n",
    "                       if c in other_table.columns]\n",
    "    \n",
    "    additional_columns = [c for c in other_table.columns  \n",
    "                          if c not in join_on_columns]\n",
    "    \n",
    "    join_table = Table(self.columns + additional_columns) \n",
    "    for row in self.rows: \n",
    "        def is_join(other_row): \n",
    "            return all(other_row[c] == row[c] for c in join_on_columns) \n",
    "        other_rows = other_table.where(is_join).rows\n",
    "        \n",
    "        for other_row in other_rows: \n",
    "            join_table.insert([row[c] for c in self.columns] + \n",
    "                              [other_row[c] for c in additional_columns])\n",
    "            \n",
    "        if left_join and not other_rows: \n",
    "            join_table.insert([row[c] for c in self.columns] +\n",
    "                              \n",
    "                              [None for c in additional_columns])\n",
    "        return join_table\n",
    "\n",
    "sql_users = users \\ \n",
    "    .join(user_interests) \\ \n",
    "    .where( lambda row: row[\"interest\"] == \"SQL\") \\ \n",
    "    .select(keep_columns=[\"name\"])"
   ]
  },
  {
   "cell_type": "code",
   "execution_count": 9,
   "metadata": {},
   "outputs": [
    {
     "ename": "SyntaxError",
     "evalue": "unexpected character after line continuation character (<ipython-input-9-71929274e800>, line 3)",
     "output_type": "error",
     "traceback": [
      "\u001b[0;36m  File \u001b[0;32m\"<ipython-input-9-71929274e800>\"\u001b[0;36m, line \u001b[0;32m3\u001b[0m\n\u001b[0;31m    likes_sql_user_ids = user_interests \\\u001b[0m\n\u001b[0m                                          ^\u001b[0m\n\u001b[0;31mSyntaxError\u001b[0m\u001b[0;31m:\u001b[0m unexpected character after line continuation character\n"
     ]
    }
   ],
   "source": [
    "#subquires\n",
    "\n",
    "likes_sql_user_ids = user_interests \\ \n",
    "    .where( lambda row: row[\"interest\"] == \"SQL\") \\ \n",
    "    .select(keep_columns=['user_id']) \n",
    "\n",
    "likes_sql_user_ids.group_by(group_by_columns=[], \n",
    "                            aggregates={ \"min_user_id\" : min_user_id })"
   ]
  },
  {
   "cell_type": "code",
   "execution_count": 10,
   "metadata": {},
   "outputs": [
    {
     "ename": "SyntaxError",
     "evalue": "unexpected character after line continuation character (<ipython-input-10-bdf280e763d2>, line 4)",
     "output_type": "error",
     "traceback": [
      "\u001b[0;36m  File \u001b[0;32m\"<ipython-input-10-bdf280e763d2>\"\u001b[0;36m, line \u001b[0;32m4\u001b[0m\n\u001b[0;31m    .join(users) \\\u001b[0m\n\u001b[0m                   ^\u001b[0m\n\u001b[0;31mSyntaxError\u001b[0m\u001b[0;31m:\u001b[0m unexpected character after line continuation character\n"
     ]
    }
   ],
   "source": [
    "#Query Optimization\n",
    "\n",
    "user_interests \\\n",
    "     .join(users) \\ \n",
    "     .where( lambda row: row[\"interest\"] == \"SQL\") \\ \n",
    "     .select([\"name\"])"
   ]
  },
  {
   "cell_type": "markdown",
   "metadata": {},
   "source": [
    "Chapter#9"
   ]
  },
  {
   "cell_type": "code",
   "execution_count": 5,
   "metadata": {},
   "outputs": [
    {
     "name": "stdout",
     "output_type": "stream",
     "text": [
      "0\n"
     ]
    }
   ],
   "source": [
    "import sys, re\n",
    "\n",
    "regex = sys.argv[1]\n",
    "\n",
    "for line in sys.stdin:  \n",
    "\n",
    "    if re.search(regex, line):       \n",
    "\n",
    "        sys.stdout.write(line)\n",
    "        \n",
    "count = 0\n",
    "\n",
    "for line in sys.stdin:   \n",
    "\n",
    "    count += 1\n",
    "\n",
    "# print goes to sys.stdout\n",
    "\n",
    "print (count)"
   ]
  },
  {
   "cell_type": "code",
   "execution_count": 1,
   "metadata": {},
   "outputs": [
    {
     "name": "stdout",
     "output_type": "stream",
     "text": [
      "hi hello\n"
     ]
    }
   ],
   "source": [
    "#Reading Files\n",
    "\n",
    "# this function is only to display the txt file for reading because the 'r' is for reading. \n",
    "file_for_reading = open('test.txt', 'r')\n",
    "print(file_for_reading.read())\n",
    "file_for_reading.close()"
   ]
  },
  {
   "cell_type": "code",
   "execution_count": 2,
   "metadata": {},
   "outputs": [
    {
     "name": "stdout",
     "output_type": "stream",
     "text": [
      "18\n",
      "18\n"
     ]
    }
   ],
   "source": [
    "# this function allow to the user to write on the txt file because the 'W' is for writing. \n",
    "\n",
    "file_for_writing = open('writing_file.txt', 'w')\n",
    "print(file_for_writing.write('\\n You are write :)'))\n",
    "file_for_writing.close()\n",
    "\n",
    "# this function allow to the user to add any pharse he wants on the txt file \n",
    "#without deleting the previous data in the file.\n",
    "#becausethe 'W' is for writing. \n",
    "file_for_writing = open('writing_file.txt', 'w')\n",
    "print(file_for_writing.write('\\n You are write :)'))\n",
    "file_for_writing.close()"
   ]
  },
  {
   "cell_type": "code",
   "execution_count": 6,
   "metadata": {},
   "outputs": [
    {
     "ename": "Error",
     "evalue": "iterator should return strings, not bytes (did you open the file in text mode?)",
     "output_type": "error",
     "traceback": [
      "\u001b[0;31m---------------------------------------------------------------------------\u001b[0m",
      "\u001b[0;31mError\u001b[0m                                     Traceback (most recent call last)",
      "\u001b[0;32m<ipython-input-6-0c2aefde82a0>\u001b[0m in \u001b[0;36m<module>\u001b[0;34m\u001b[0m\n\u001b[1;32m      5\u001b[0m \u001b[0;32mwith\u001b[0m \u001b[0mopen\u001b[0m\u001b[0;34m(\u001b[0m\u001b[0;34m'www.txt'\u001b[0m\u001b[0;34m,\u001b[0m \u001b[0;34m'rb'\u001b[0m\u001b[0;34m)\u001b[0m \u001b[0;32mas\u001b[0m \u001b[0mf\u001b[0m\u001b[0;34m:\u001b[0m\u001b[0;34m\u001b[0m\u001b[0;34m\u001b[0m\u001b[0m\n\u001b[1;32m      6\u001b[0m     \u001b[0mreader\u001b[0m \u001b[0;34m=\u001b[0m \u001b[0mcsv\u001b[0m\u001b[0;34m.\u001b[0m\u001b[0mreader\u001b[0m\u001b[0;34m(\u001b[0m\u001b[0mf\u001b[0m\u001b[0;34m,\u001b[0m \u001b[0mdelimiter\u001b[0m\u001b[0;34m=\u001b[0m \u001b[0;34m\",\"\u001b[0m\u001b[0;34m)\u001b[0m\u001b[0;34m\u001b[0m\u001b[0;34m\u001b[0m\u001b[0m\n\u001b[0;32m----> 7\u001b[0;31m     \u001b[0;32mfor\u001b[0m \u001b[0mrow\u001b[0m \u001b[0;32min\u001b[0m \u001b[0mreader\u001b[0m\u001b[0;34m:\u001b[0m\u001b[0;34m\u001b[0m\u001b[0;34m\u001b[0m\u001b[0m\n\u001b[0m\u001b[1;32m      8\u001b[0m         \u001b[0mdate\u001b[0m \u001b[0;34m=\u001b[0m \u001b[0mrow\u001b[0m\u001b[0;34m[\u001b[0m\u001b[0;36m0\u001b[0m\u001b[0;34m]\u001b[0m\u001b[0;34m\u001b[0m\u001b[0;34m\u001b[0m\u001b[0m\n\u001b[1;32m      9\u001b[0m         \u001b[0msymbol\u001b[0m \u001b[0;34m=\u001b[0m \u001b[0mrow\u001b[0m\u001b[0;34m[\u001b[0m\u001b[0;36m1\u001b[0m\u001b[0;34m]\u001b[0m\u001b[0;34m\u001b[0m\u001b[0;34m\u001b[0m\u001b[0m\n",
      "\u001b[0;31mError\u001b[0m: iterator should return strings, not bytes (did you open the file in text mode?)"
     ]
    }
   ],
   "source": [
    "#Delimited Files\n",
    "\n",
    "import csv  \n",
    "\n",
    "with open('www.txt', 'rb') as f: \n",
    "    reader = csv.reader(f, delimiter= \",\") \n",
    "    for row in reader: \n",
    "        date = row[0] \n",
    "        symbol = row[1] \n",
    "        closing_price = float(row[2]) \n",
    "        process(date, symbol, closing_price)\n",
    "        \n",
    "with open('www.txt', 'r') as f:\n",
    "    reader = csv.reader(f) \n",
    "    for row in reader:\n",
    "        print(row)  "
   ]
  },
  {
   "cell_type": "code",
   "execution_count": 11,
   "metadata": {},
   "outputs": [
    {
     "name": "stdout",
     "output_type": "stream",
     "text": [
      "\n",
      "                            Many taxpayers are complaining that their refunds are either greatly reduced, or that they now owe the IRS, in the wake of the December 2017 tax cuts.\n",
      "\n",
      "['Many', 'taxpayers', 'are', 'complaining', 'that', 'their', 'refunds', 'are', 'either', 'greatly', 'reduced,', 'or', 'that', 'they', 'now', 'owe', 'the', 'IRS,', 'in', 'the', 'wake', 'of', 'the', 'December', '2017', 'tax', 'cuts.']\n"
     ]
    }
   ],
   "source": [
    "#Scraping the Web\n",
    "\n",
    "\n",
    "from bs4 import BeautifulSoup \n",
    "\n",
    "import requests\n",
    "\n",
    "html = requests.get(\"http://www.yahoo.com\").text \n",
    "soup = BeautifulSoup(html, 'html5lib')\n",
    "\n",
    "first_paragraph_text = soup.p.text \n",
    "first_paragraph_words = soup.p.text.split()\n",
    "\n",
    "print(first_paragraph_text)\n",
    "print(first_paragraph_words)"
   ]
  },
  {
   "cell_type": "code",
   "execution_count": 12,
   "metadata": {},
   "outputs": [
    {
     "name": "stdout",
     "output_type": "stream",
     "text": [
      "{'title': 'Data Science Book', 'author': 'Joel Grus', 'publicationYear': 2014, 'topics': ['data', 'science', 'data science']}\n"
     ]
    }
   ],
   "source": [
    "#APIs (JSON)\n",
    "\n",
    "import json\n",
    "serialized = \"\"\"{ \"title\" : \"Data Science Book\", \n",
    "                  \"author\" : \"Joel Grus\", \n",
    "                  \"publicationYear\" : 2014, \n",
    "                  \"topics\" : [ \"data\", \"science\", \"data science\"] }\"\"\"\n",
    "\n",
    "deserialized = json.loads(serialized) \n",
    "if \"data science\" in deserialized[\"topics\"]: \n",
    "    print(deserialized)"
   ]
  },
  {
   "cell_type": "code",
   "execution_count": 13,
   "metadata": {},
   "outputs": [],
   "source": [
    "#Using an Unauthenticated API\n",
    "\n",
    "import requests , json \n",
    "endpoint = \"https://api.github.com/users/joelgrus/repos\" \n",
    "repos = json.loads(requests.get(endpoint).text)"
   ]
  },
  {
   "cell_type": "code",
   "execution_count": null,
   "metadata": {},
   "outputs": [],
   "source": []
  }
 ],
 "metadata": {
  "kernelspec": {
   "display_name": "Python 3",
   "language": "python",
   "name": "python3"
  },
  "language_info": {
   "codemirror_mode": {
    "name": "ipython",
    "version": 3
   },
   "file_extension": ".py",
   "mimetype": "text/x-python",
   "name": "python",
   "nbconvert_exporter": "python",
   "pygments_lexer": "ipython3",
   "version": "3.7.1"
  }
 },
 "nbformat": 4,
 "nbformat_minor": 2
}
