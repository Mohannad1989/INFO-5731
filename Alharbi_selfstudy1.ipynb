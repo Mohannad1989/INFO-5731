{
 "cells": [
  {
   "cell_type": "markdown",
   "metadata": {},
   "source": [
    "Chapter#8"
   ]
  },
  {
   "cell_type": "code",
   "execution_count": 39,
   "metadata": {},
   "outputs": [
    {
     "name": "stdout",
     "output_type": "stream",
     "text": [
      "insert your word:\n",
      "word\n",
      "insert a number to show the letter: \n",
      "2\n",
      "---------------------\n",
      "your choosen letter is:  r\n"
     ]
    }
   ],
   "source": [
    "#8.1 A string is a sequence\n",
    "\n",
    "name = input('insert your word:\\n')\n",
    "letter = name[int(input('insert a number to show the letter: \\n'))]\n",
    "print('---------------------')\n",
    "print('your choosen letter is: ' ,letter)"
   ]
  },
  {
   "cell_type": "code",
   "execution_count": 40,
   "metadata": {},
   "outputs": [
    {
     "name": "stdout",
     "output_type": "stream",
     "text": [
      "insert any word:\n",
      "word\n",
      "---------------------\n",
      "this is your last letter in your word: d\n"
     ]
    }
   ],
   "source": [
    "#8.2 len\n",
    "name = input('insert any word:\\n')\n",
    "print('---------------------')\n",
    "len(name)\n",
    "length = len(name)\n",
    "last = name[length-1]\n",
    "print('this is your last letter in your word: ' + last)"
   ]
  },
  {
   "cell_type": "code",
   "execution_count": 16,
   "metadata": {},
   "outputs": [
    {
     "name": "stdout",
     "output_type": "stream",
     "text": [
      "insert any word:\n",
      "word\n",
      "---------------------\n",
      "w\n",
      "w\n",
      "o\n",
      "r\n",
      "d\n",
      "o\n",
      "w\n",
      "o\n",
      "r\n",
      "d\n",
      "r\n",
      "w\n",
      "o\n",
      "r\n",
      "d\n",
      "d\n",
      "w\n",
      "o\n",
      "r\n",
      "d\n"
     ]
    }
   ],
   "source": [
    "#8.3 Traversal with a for loop\n",
    "name = input('insert any word:\\n')\n",
    "print('---------------------')\n",
    "index = 0\n",
    "\n",
    "while index < len(name):\n",
    "    letter = name[index]\n",
    "    print(letter)\n",
    "    index = index + 1\n",
    "\n",
    "    for letter in name:\n",
    "        print(letter)"
   ]
  },
  {
   "cell_type": "code",
   "execution_count": 17,
   "metadata": {},
   "outputs": [
    {
     "name": "stdout",
     "output_type": "stream",
     "text": [
      "insert only first letters for a name:\n",
      "K\n",
      "complete the remain letters here:\n",
      "haled\n",
      "---------------------\n",
      "Khaled\n"
     ]
    }
   ],
   "source": [
    "#8.3 Traversal with a for loop\n",
    "prefixes = input('insert only first letters for a name:\\n')\n",
    "suffix = input('complete the remain letters here:\\n')\n",
    "print('---------------------')\n",
    "for letter in prefixes:\n",
    "    print(letter + suffix)"
   ]
  },
  {
   "cell_type": "code",
   "execution_count": 19,
   "metadata": {},
   "outputs": [
    {
     "name": "stdout",
     "output_type": "stream",
     "text": [
      "insert a word:\n",
      "hi\n",
      "---------------------\n"
     ]
    },
    {
     "data": {
      "text/plain": [
       "'hi'"
      ]
     },
     "execution_count": 19,
     "metadata": {},
     "output_type": "execute_result"
    }
   ],
   "source": [
    "#8.4 String slices\n",
    "name = input('insert a word:\\n')\n",
    "print('---------------------')\n",
    "name [0:5]"
   ]
  },
  {
   "cell_type": "code",
   "execution_count": 20,
   "metadata": {},
   "outputs": [
    {
     "name": "stdout",
     "output_type": "stream",
     "text": [
      "insert your phrase:\n",
      "my name is mohannad\n",
      "insert your replacment letter:\n",
      "l\n",
      "---------------------\n",
      "ly name is mohannad\n"
     ]
    }
   ],
   "source": [
    "#8.5 Strings are immutable\n",
    "phrase = input('insert your phrase:\\n')\n",
    "reletter = input('insert your replacment letter:\\n')\n",
    "print('---------------------')\n",
    "new_phrase = reletter + phrase[1:]\n",
    "print(new_phrase)"
   ]
  },
  {
   "cell_type": "code",
   "execution_count": 21,
   "metadata": {},
   "outputs": [
    {
     "name": "stdout",
     "output_type": "stream",
     "text": [
      "insert yuor first word:\n",
      "hi\n",
      "insert yuor second word:\n",
      "guys\n",
      "---------------------\n"
     ]
    },
    {
     "data": {
      "text/plain": [
       "-1"
      ]
     },
     "execution_count": 21,
     "metadata": {},
     "output_type": "execute_result"
    }
   ],
   "source": [
    "#8.6 Searching\n",
    "word1= input('insert yuor first word:\\n')\n",
    "word2= input('insert yuor second word:\\n')\n",
    "print('---------------------')\n",
    "def find(word1, word2):\n",
    "    index = 0\n",
    "    while index < len(word1):\n",
    "        if word1[index] == word2:\n",
    "            return index\n",
    "        index = index + 1\n",
    "return -1"
   ]
  },
  {
   "cell_type": "code",
   "execution_count": 22,
   "metadata": {},
   "outputs": [
    {
     "name": "stdout",
     "output_type": "stream",
     "text": [
      "insert your phrase:\n",
      "mohannad\n",
      "insert your desire letter:\n",
      "h\n",
      "---------------------\n",
      "No match in your phrase\n",
      "No match in your phrase\n",
      "No match in your phrase\n",
      "No match in your phrase\n",
      "No match in your phrase\n",
      "No match in your phrase\n",
      "No match in your phrase\n",
      "1\n"
     ]
    }
   ],
   "source": [
    "#8.7 Looping and counting\n",
    "word = input('insert your phrase:\\n')\n",
    "count = 0\n",
    "letter1 = input('insert your desire letter:\\n')\n",
    "print('---------------------')\n",
    "for letter in word:\n",
    "    if letter == letter1:\n",
    "        count = count + 1\n",
    "    else:\n",
    "        print('No match in your phrase')\n",
    "   \n",
    "            \n",
    "print(count)"
   ]
  },
  {
   "cell_type": "code",
   "execution_count": 24,
   "metadata": {},
   "outputs": [
    {
     "name": "stdout",
     "output_type": "stream",
     "text": [
      "insert your word:\n",
      "word\n",
      "insert your letter you wish to find:\n",
      "w\n",
      "---------------------\n",
      "0\n"
     ]
    }
   ],
   "source": [
    "#8.8 String methods\n",
    "\n",
    "word = input('insert your word:\\n')\n",
    "index = word.find(input('insert your letter you wish to find:\\n'))\n",
    "print('---------------------')\n",
    "\n",
    "\n",
    "print(index)"
   ]
  },
  {
   "cell_type": "code",
   "execution_count": 3,
   "metadata": {},
   "outputs": [
    {
     "name": "stdout",
     "output_type": "stream",
     "text": [
      "insert your first word:\n",
      "Mohannad\n",
      "insert your second word:\n",
      "Mohammed\n",
      "---------------------\n",
      "M\n",
      "o\n",
      "h\n",
      "a\n",
      "there is no match in you words!\n",
      "there is no match in you words!\n",
      "a\n",
      "d\n"
     ]
    }
   ],
   "source": [
    "#8.9 The in operator\n",
    "\n",
    "fname = input('insert your first word:\\n')\n",
    "sname = input('insert your second word:\\n')\n",
    "print('---------------------')\n",
    "\n",
    "def in_both(fname, sname):\n",
    "    for letter in fname:\n",
    "        if letter in sname:\n",
    "            print(letter)\n",
    "        else:\n",
    "            print('there is no match in you words!')\n",
    "in_both(fname, sname)"
   ]
  },
  {
   "cell_type": "code",
   "execution_count": 4,
   "metadata": {},
   "outputs": [
    {
     "name": "stdout",
     "output_type": "stream",
     "text": [
      "insert your first word:\n",
      "HI\n",
      "insert your second word:\n",
      "HI\n",
      "---------------------\n",
      "All the same.\n"
     ]
    }
   ],
   "source": [
    "#8.10 String comparison\n",
    "word1 = input('insert your first word:\\n')\n",
    "word2 = input('insert your second word:\\n')\n",
    "print('---------------------')\n",
    "if word1 < word2:\n",
    "    print('Your word, ' + word1 + ', comes before, '  + word2)\n",
    "elif word1 > word2:\n",
    "    print('Your word, ' + word1 + ', comes after, '  + word2)\n",
    "else:\n",
    "    print('All the same.')"
   ]
  },
  {
   "cell_type": "markdown",
   "metadata": {},
   "source": [
    "Chapter#9"
   ]
  },
  {
   "cell_type": "code",
   "execution_count": 4,
   "metadata": {},
   "outputs": [
    {
     "name": "stdout",
     "output_type": "stream",
     "text": [
      "insert any word:\n",
      "Mohannad\n",
      "just insert one letter:\n",
      "d\n",
      "-------------------\n"
     ]
    },
    {
     "data": {
      "text/plain": [
       "False"
      ]
     },
     "execution_count": 4,
     "metadata": {},
     "output_type": "execute_result"
    }
   ],
   "source": [
    "#9.3 Search\n",
    "word = input('insert any word:\\n')\n",
    "find = input('just insert one letter:\\n')\n",
    "print('-------------------')\n",
    "def has_no_e(word):\n",
    "    for letter in word:\n",
    "        if word == find :\n",
    "            return True\n",
    "        \n",
    "return False           "
   ]
  },
  {
   "cell_type": "markdown",
   "metadata": {},
   "source": [
    "Chapter#10"
   ]
  },
  {
   "cell_type": "code",
   "execution_count": 1,
   "metadata": {},
   "outputs": [
    {
     "name": "stdout",
     "output_type": "stream",
     "text": [
      "insert cheese kinds: \n",
      "feta cheddar swiss\n",
      "insert numbers: \n",
      "23 22\n",
      "feta cheddar swiss 23 22 []\n"
     ]
    }
   ],
   "source": [
    "#10.1 A list is a sequence\n",
    "cheeses = input('insert cheese kinds: \\n')\n",
    "l = list(cheeses)\n",
    "numbers = input('insert numbers: \\n')\n",
    "i = list(numbers)\n",
    "empty = []\n",
    "print(cheeses, numbers, empty)"
   ]
  },
  {
   "cell_type": "code",
   "execution_count": 5,
   "metadata": {},
   "outputs": [
    {
     "name": "stdout",
     "output_type": "stream",
     "text": [
      "insert numbers: \n",
      "11\n",
      "['1', '1']\n",
      "insert a number:\n",
      "2\n"
     ]
    },
    {
     "ename": "TypeError",
     "evalue": "'str' object does not support item assignment",
     "output_type": "error",
     "traceback": [
      "\u001b[0;31m---------------------------------------------------------------------------\u001b[0m",
      "\u001b[0;31mTypeError\u001b[0m                                 Traceback (most recent call last)",
      "\u001b[0;32m<ipython-input-5-aed587467544>\u001b[0m in \u001b[0;36m<module>\u001b[0;34m\u001b[0m\n\u001b[1;32m      4\u001b[0m \u001b[0md\u001b[0m \u001b[0;34m=\u001b[0m \u001b[0mlist\u001b[0m\u001b[0;34m(\u001b[0m\u001b[0mdigit\u001b[0m\u001b[0;34m)\u001b[0m\u001b[0;34m\u001b[0m\u001b[0;34m\u001b[0m\u001b[0m\n\u001b[1;32m      5\u001b[0m \u001b[0mprint\u001b[0m\u001b[0;34m(\u001b[0m\u001b[0md\u001b[0m\u001b[0;34m)\u001b[0m\u001b[0;34m\u001b[0m\u001b[0;34m\u001b[0m\u001b[0m\n\u001b[0;32m----> 6\u001b[0;31m \u001b[0mnumbers\u001b[0m\u001b[0;34m[\u001b[0m\u001b[0;36m1\u001b[0m\u001b[0;34m]\u001b[0m \u001b[0;34m=\u001b[0m \u001b[0mint\u001b[0m\u001b[0;34m(\u001b[0m\u001b[0minput\u001b[0m\u001b[0;34m(\u001b[0m\u001b[0;34m'insert a number:\\n'\u001b[0m\u001b[0;34m)\u001b[0m\u001b[0;34m)\u001b[0m\u001b[0;34m\u001b[0m\u001b[0;34m\u001b[0m\u001b[0m\n\u001b[0m\u001b[1;32m      7\u001b[0m \u001b[0mprint\u001b[0m\u001b[0;34m(\u001b[0m\u001b[0mnumbers\u001b[0m\u001b[0;34m)\u001b[0m\u001b[0;34m\u001b[0m\u001b[0;34m\u001b[0m\u001b[0m\n",
      "\u001b[0;31mTypeError\u001b[0m: 'str' object does not support item assignment"
     ]
    }
   ],
   "source": [
    "#10.2 Lists are mutable\n",
    "\n",
    "digit = input('insert numbers: \\n')\n",
    "d = list(digit)\n",
    "print(d)\n",
    "numbers[1] = int(input('insert a number:\\n'))\n",
    "print(numbers)"
   ]
  },
  {
   "cell_type": "code",
   "execution_count": 7,
   "metadata": {},
   "outputs": [
    {
     "name": "stdout",
     "output_type": "stream",
     "text": [
      "insert cheese kinds:\n",
      "feta cheddar swiss\n",
      "insert a word to search it in the index:\n",
      "swiss\n",
      "--------------\n",
      "it is there!\n"
     ]
    }
   ],
   "source": [
    "#10.2 Lists are mutable\n",
    "\n",
    "cheeses = input('insert cheese kinds:\\n')\n",
    "s = list(cheeses)\n",
    "word = input('insert a word to search it in the index:\\n')\n",
    "print('--------------')\n",
    "\n",
    "if word in cheeses:\n",
    "    print('it is there!')\n",
    "else:\n",
    "        print('wrong!')"
   ]
  },
  {
   "cell_type": "code",
   "execution_count": 8,
   "metadata": {},
   "outputs": [
    {
     "name": "stdout",
     "output_type": "stream",
     "text": [
      "insert number:\n",
      "33\n",
      "insert number:\n",
      "11\n",
      "---------------------\n",
      "3311\n"
     ]
    }
   ],
   "source": [
    "#10.4 List operations\n",
    "\n",
    "a = input('insert number:\\n')\n",
    "t = list(a)\n",
    "b = input('insert number:\\n')\n",
    "s = list(b)\n",
    "print('---------------------')\n",
    "c = a + b\n",
    "print(c)"
   ]
  },
  {
   "cell_type": "code",
   "execution_count": null,
   "metadata": {},
   "outputs": [],
   "source": [
    "#10.5 List slices\n",
    "\n",
    "t = input('insert any words: \\n')\n",
    "l = list(t)\n",
    "t[1:3]"
   ]
  },
  {
   "cell_type": "code",
   "execution_count": 9,
   "metadata": {},
   "outputs": [
    {
     "name": "stdout",
     "output_type": "stream",
     "text": [
      "insert letters: \n",
      "abcd\n",
      "insert a letter:\n",
      "w\n",
      "['a', 'b', 'c', 'd', 'w']\n"
     ]
    }
   ],
   "source": [
    "#10.6 List methods\n",
    "\n",
    "t = input('insert letters: \\n')\n",
    "l = list(t)\n",
    "l.append( input('insert a letter:\\n'))\n",
    "print(l)"
   ]
  },
  {
   "cell_type": "code",
   "execution_count": null,
   "metadata": {},
   "outputs": [],
   "source": [
    "#10.7 Map, filter and reduce\n",
    "\n",
    "def add_all(t):\n",
    "    total = 0\n",
    "    for x in t:\n",
    "        total += x\n",
    "return total"
   ]
  },
  {
   "cell_type": "code",
   "execution_count": 2,
   "metadata": {},
   "outputs": [
    {
     "name": "stdout",
     "output_type": "stream",
     "text": [
      "insert any word:\n",
      "Mohannad\n",
      "insert a number that you want to remove it: \n",
      "5\n",
      "['M', 'o', 'h', 'a', 'n', 'a', 'd']\n",
      "would you like to print the missing value?\n",
      "no\n",
      "As you like!\n"
     ]
    }
   ],
   "source": [
    "#10.8 Deleting elements\n",
    "\n",
    "word = input('insert any word:\\n')\n",
    "t = list(word)\n",
    "x = t.pop(int(input('insert a number that you want to remove it: \\n')))\n",
    "print(t)\n",
    "\n",
    "missing = input('would you like to print the missing value?\\n')\n",
    "\n",
    "if missing == 'yes':\n",
    "    print('----------------')\n",
    "    print('the missing letter is: ' + x)\n",
    "else: \n",
    "        print('As you like!')"
   ]
  },
  {
   "cell_type": "code",
   "execution_count": 3,
   "metadata": {},
   "outputs": [
    {
     "name": "stdout",
     "output_type": "stream",
     "text": [
      "insert any word:\n",
      "word\n",
      "['w', 'o', 'r', 'd']\n"
     ]
    }
   ],
   "source": [
    "#10.9 Lists and strings\n",
    "\n",
    "word = input('insert any word:\\n')\n",
    "t = list(word)\n",
    "print(t)"
   ]
  },
  {
   "cell_type": "code",
   "execution_count": 5,
   "metadata": {},
   "outputs": [
    {
     "name": "stdout",
     "output_type": "stream",
     "text": [
      "insert letters:\n",
      "abcdefghijk\n",
      "----------------\n",
      "insert a number to remove a letter: \n",
      "4\n",
      "['a', 'b', 'c', 'd', 'f', 'g', 'h', 'i', 'j', 'k']\n"
     ]
    }
   ],
   "source": [
    "#10.12 List arguments\n",
    "\n",
    "letters = input('insert letters:\\n')\n",
    "s = list(letters)\n",
    "print('----------------')\n",
    "def delete_head(t):\n",
    "    del t[int(input('insert a number to remove a letter: \\n'))]\n",
    "    s = letters\n",
    "delete_head(s)\n",
    "print(s)"
   ]
  },
  {
   "cell_type": "markdown",
   "metadata": {},
   "source": [
    "chapter#11"
   ]
  },
  {
   "cell_type": "code",
   "execution_count": 1,
   "metadata": {},
   "outputs": [
    {
     "name": "stdout",
     "output_type": "stream",
     "text": [
      "insert the right translate word for it in arabic\n",
      "مع السلامه\n",
      "insert the word:\n",
      "good bay\n",
      "Do you want to see the translated phrase: insert yes or no:\n",
      "yes\n",
      "{'good bay': 'مع السلامه'}\n"
     ]
    }
   ],
   "source": [
    "#11.1 A dictionary is a mapping\n",
    "\n",
    "eng2ar = dict()\n",
    "eng2ar[input('insert the word:\\n')] = input('insert the right translate word for it in arabic\\n')\n",
    "\n",
    "\n",
    "chose = input('Do you want to see the translated phrase: insert yes or no:\\n')\n",
    "\n",
    "if chose == 'yes':\n",
    "    print (eng2ar)\n",
    "else:\n",
    "    print('good night')"
   ]
  },
  {
   "cell_type": "code",
   "execution_count": 31,
   "metadata": {},
   "outputs": [
    {
     "name": "stdout",
     "output_type": "stream",
     "text": [
      "insert a word: \n",
      "no\n"
     ]
    },
    {
     "data": {
      "text/plain": [
       "False"
      ]
     },
     "execution_count": 31,
     "metadata": {},
     "output_type": "execute_result"
    }
   ],
   "source": [
    "input('insert a word: \\n') in eng2ar"
   ]
  },
  {
   "cell_type": "code",
   "execution_count": 7,
   "metadata": {},
   "outputs": [],
   "source": [
    "#11.2 Dictionary as a collection of counters\n",
    "def histogram(s):\n",
    "    d = dict()\n",
    "    for c in s:\n",
    "        if c not in d:\n",
    "            d[c] = 1 \n",
    "        else:\n",
    "            d[c] += 1\n",
    "    return d"
   ]
  },
  {
   "cell_type": "code",
   "execution_count": 8,
   "metadata": {},
   "outputs": [
    {
     "name": "stdout",
     "output_type": "stream",
     "text": [
      "insert a phrase:\n",
      "Mohannad\n",
      "Do you like to use inverse funcation: yes or no:\n",
      "yes\n",
      "-------------------------\n",
      "{1: ['M', 'o', 'h', 'd'], 2: ['a', 'n']}\n"
     ]
    }
   ],
   "source": [
    "#11.2 Dictionary as a collection of counters and 11.5\n",
    "\n",
    "def invert_dict(d):\n",
    "    inverse = dict()\n",
    "    for key in d:\n",
    "        val = d[key]\n",
    "        if val not in inverse:\n",
    "            inverse[val] = [key]\n",
    "        else:\n",
    "            inverse[val].append(key)\n",
    "    return inverse\n",
    "\n",
    "h = histogram(input('insert a phrase:\\n'))\n",
    "chose = input('Do you like to use inverse funcation: yes or no:\\n')\n",
    "print('-------------------------')\n",
    "\n",
    "if chose == 'yes':\n",
    "    inverse = invert_dict(h)\n",
    "    print(inverse)\n",
    "else:\n",
    "        print(h)"
   ]
  },
  {
   "cell_type": "markdown",
   "metadata": {},
   "source": [
    "Chapter#12"
   ]
  },
  {
   "cell_type": "code",
   "execution_count": 9,
   "metadata": {},
   "outputs": [
    {
     "name": "stdout",
     "output_type": "stream",
     "text": [
      "insert any word: \n",
      "quit\n",
      "---------------\n",
      "('q', 'u', 'i', 't')\n"
     ]
    }
   ],
   "source": [
    "#12.1 Tuples are immutable\n",
    "#createing an empty tuple and the user is free to insert words:\n",
    "\n",
    "t = tuple(input('insert any word: \\n'))\n",
    "print('---------------')\n",
    "print(t)"
   ]
  },
  {
   "cell_type": "code",
   "execution_count": 7,
   "metadata": {},
   "outputs": [
    {
     "name": "stdout",
     "output_type": "stream",
     "text": [
      "Enter your first and last name: \n",
      "Mohannad Alharbi\n",
      "Enter your email address: \n",
      "Alharbi.m1989@gmail.com\n",
      "Do you like to to know your user name or domain: insert user name or domain \n",
      "no\n",
      "-------------------------\n",
      "good night!\n"
     ]
    }
   ],
   "source": [
    "#12.2 Tuple assignment\n",
    "\n",
    "name = input('Enter your first and last name: \\n')\n",
    "email = input('Enter your email address: \\n')\n",
    "uname, domain = email.split('@')\n",
    "chose = input('Do you like to to know your user name or domain: insert user name or domain \\n')\n",
    "print('-------------------------')\n",
    "\n",
    "if chose == 'user name':\n",
    "    print(uname)\n",
    "elif chose == 'domain':\n",
    "    print(domain)\n",
    "else:\n",
    "    print('good night!')"
   ]
  },
  {
   "cell_type": "code",
   "execution_count": null,
   "metadata": {},
   "outputs": [],
   "source": [
    "#12.3 Tuples as return values\n",
    "\n",
    "\n",
    "t = divmod(4, 2)\n",
    "\n",
    "print(t)\n",
    "\n"
   ]
  },
  {
   "cell_type": "code",
   "execution_count": 10,
   "metadata": {},
   "outputs": [
    {
     "name": "stdout",
     "output_type": "stream",
     "text": [
      "insert letters: \n",
      "abcd\n",
      "insert numbers: \n",
      "1234\n",
      "('a', '1')\n",
      "('b', '2')\n",
      "('c', '3')\n",
      "('d', '4')\n"
     ]
    }
   ],
   "source": [
    "#12.5 Lists and tuples\n",
    "\n",
    "s = input('insert letters: \\n')\n",
    "t = input('insert numbers: \\n')\n",
    "l = list(t)\n",
    "zip(s, t)\n",
    "\n",
    "for pair in zip(s, t):\n",
    "    print(pair)"
   ]
  },
  {
   "cell_type": "code",
   "execution_count": null,
   "metadata": {},
   "outputs": [],
   "source": []
  }
 ],
 "metadata": {
  "kernelspec": {
   "display_name": "Python 3",
   "language": "python",
   "name": "python3"
  },
  "language_info": {
   "codemirror_mode": {
    "name": "ipython",
    "version": 3
   },
   "file_extension": ".py",
   "mimetype": "text/x-python",
   "name": "python",
   "nbconvert_exporter": "python",
   "pygments_lexer": "ipython3",
   "version": "3.7.1"
  }
 },
 "nbformat": 4,
 "nbformat_minor": 2
}
